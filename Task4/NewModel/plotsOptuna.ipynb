{
 "cells": [
  {
   "cell_type": "code",
   "execution_count": 1,
   "metadata": {},
   "outputs": [
    {
     "name": "stderr",
     "output_type": "stream",
     "text": [
      "d:\\Documentos\\Master\\C3 MCV\\C3\\.venv\\lib\\site-packages\\tqdm\\auto.py:21: TqdmWarning: IProgress not found. Please update jupyter and ipywidgets. See https://ipywidgets.readthedocs.io/en/stable/user_install.html\n",
      "  from .autonotebook import tqdm as notebook_tqdm\n"
     ]
    },
    {
     "name": "stdout",
     "output_type": "stream",
     "text": [
      "{'conv_0_filters': 76, 'conv_0_kernel_size': 3, 'num_conv_layers': 2, 'conv_1_filters': 47, 'conv_1_kernel_size': 5, 'optimizer': 'sgd', 'lr_o': 0.001}\n"
     ]
    },
    {
     "ename": "ValueError",
     "evalue": "Mime type rendering requires nbformat>=4.2.0 but it is not installed",
     "output_type": "error",
     "traceback": [
      "\u001b[1;31m---------------------------------------------------------------------------\u001b[0m",
      "\u001b[1;31mValueError\u001b[0m                                Traceback (most recent call last)",
      "File \u001b[1;32md:\\Documentos\\Master\\C3 MCV\\C3\\.venv\\lib\\site-packages\\IPython\\core\\formatters.py:922\u001b[0m, in \u001b[0;36mIPythonDisplayFormatter.__call__\u001b[1;34m(self, obj)\u001b[0m\n\u001b[0;32m    920\u001b[0m method \u001b[38;5;241m=\u001b[39m get_real_method(obj, \u001b[38;5;28mself\u001b[39m\u001b[38;5;241m.\u001b[39mprint_method)\n\u001b[0;32m    921\u001b[0m \u001b[38;5;28;01mif\u001b[39;00m method \u001b[38;5;129;01mis\u001b[39;00m \u001b[38;5;129;01mnot\u001b[39;00m \u001b[38;5;28;01mNone\u001b[39;00m:\n\u001b[1;32m--> 922\u001b[0m     \u001b[43mmethod\u001b[49m\u001b[43m(\u001b[49m\u001b[43m)\u001b[49m\n\u001b[0;32m    923\u001b[0m     \u001b[38;5;28;01mreturn\u001b[39;00m \u001b[38;5;28;01mTrue\u001b[39;00m\n",
      "File \u001b[1;32md:\\Documentos\\Master\\C3 MCV\\C3\\.venv\\lib\\site-packages\\plotly\\basedatatypes.py:832\u001b[0m, in \u001b[0;36mBaseFigure._ipython_display_\u001b[1;34m(self)\u001b[0m\n\u001b[0;32m    829\u001b[0m \u001b[38;5;28;01mimport\u001b[39;00m \u001b[38;5;21;01mplotly\u001b[39;00m\u001b[38;5;21;01m.\u001b[39;00m\u001b[38;5;21;01mio\u001b[39;00m \u001b[38;5;28;01mas\u001b[39;00m \u001b[38;5;21;01mpio\u001b[39;00m\n\u001b[0;32m    831\u001b[0m \u001b[38;5;28;01mif\u001b[39;00m pio\u001b[38;5;241m.\u001b[39mrenderers\u001b[38;5;241m.\u001b[39mrender_on_display \u001b[38;5;129;01mand\u001b[39;00m pio\u001b[38;5;241m.\u001b[39mrenderers\u001b[38;5;241m.\u001b[39mdefault:\n\u001b[1;32m--> 832\u001b[0m     \u001b[43mpio\u001b[49m\u001b[38;5;241;43m.\u001b[39;49m\u001b[43mshow\u001b[49m\u001b[43m(\u001b[49m\u001b[38;5;28;43mself\u001b[39;49m\u001b[43m)\u001b[49m\n\u001b[0;32m    833\u001b[0m \u001b[38;5;28;01melse\u001b[39;00m:\n\u001b[0;32m    834\u001b[0m     \u001b[38;5;28mprint\u001b[39m(\u001b[38;5;28mrepr\u001b[39m(\u001b[38;5;28mself\u001b[39m))\n",
      "File \u001b[1;32md:\\Documentos\\Master\\C3 MCV\\C3\\.venv\\lib\\site-packages\\plotly\\io\\_renderers.py:394\u001b[0m, in \u001b[0;36mshow\u001b[1;34m(fig, renderer, validate, **kwargs)\u001b[0m\n\u001b[0;32m    389\u001b[0m         \u001b[38;5;28;01mraise\u001b[39;00m \u001b[38;5;167;01mValueError\u001b[39;00m(\n\u001b[0;32m    390\u001b[0m             \u001b[38;5;124m\"\u001b[39m\u001b[38;5;124mMime type rendering requires ipython but it is not installed\u001b[39m\u001b[38;5;124m\"\u001b[39m\n\u001b[0;32m    391\u001b[0m         )\n\u001b[0;32m    393\u001b[0m     \u001b[38;5;28;01mif\u001b[39;00m \u001b[38;5;129;01mnot\u001b[39;00m nbformat \u001b[38;5;129;01mor\u001b[39;00m Version(nbformat\u001b[38;5;241m.\u001b[39m__version__) \u001b[38;5;241m<\u001b[39m Version(\u001b[38;5;124m\"\u001b[39m\u001b[38;5;124m4.2.0\u001b[39m\u001b[38;5;124m\"\u001b[39m):\n\u001b[1;32m--> 394\u001b[0m         \u001b[38;5;28;01mraise\u001b[39;00m \u001b[38;5;167;01mValueError\u001b[39;00m(\n\u001b[0;32m    395\u001b[0m             \u001b[38;5;124m\"\u001b[39m\u001b[38;5;124mMime type rendering requires nbformat>=4.2.0 but it is not installed\u001b[39m\u001b[38;5;124m\"\u001b[39m\n\u001b[0;32m    396\u001b[0m         )\n\u001b[0;32m    398\u001b[0m     ipython_display\u001b[38;5;241m.\u001b[39mdisplay(bundle, raw\u001b[38;5;241m=\u001b[39m\u001b[38;5;28;01mTrue\u001b[39;00m)\n\u001b[0;32m    400\u001b[0m \u001b[38;5;66;03m# external renderers\u001b[39;00m\n",
      "\u001b[1;31mValueError\u001b[0m: Mime type rendering requires nbformat>=4.2.0 but it is not installed"
     ]
    },
    {
     "data": {
      "application/vnd.plotly.v1+json": {
       "config": {
        "plotlyServerURL": "https://plot.ly"
       },
       "data": [
        {
         "dimensions": [
          {
           "label": "Objective Value",
           "range": [
            0.26179999113082886,
            0.29089999198913574
           ],
           "values": [
            0.2858999967575073,
            0.29089999198913574,
            0.26179999113082886
           ]
          },
          {
           "label": "conv_0_filters",
           "range": [
            1.5440680443502757,
            1.9777236052888478
           ],
           "ticktext": [
            "35",
            "95"
           ],
           "tickvals": [
            1.5440680443502757,
            1.9777236052888478
           ],
           "values": [
            1.792391689498254,
            1.5440680443502757,
            1.9777236052888478
           ]
          },
          {
           "label": "conv_0_kernel_size",
           "range": [
            0,
            1
           ],
           "ticktext": [
            "3",
            "5"
           ],
           "tickvals": [
            0,
            1
           ],
           "values": [
            0,
            0,
            1
           ]
          },
          {
           "label": "conv_1_filters",
           "range": [
            1.2304489213782739,
            2.0492180226701815
           ],
           "ticktext": [
            "17",
            "100",
            "112"
           ],
           "tickvals": [
            1.2304489213782739,
            2,
            2.0492180226701815
           ],
           "values": [
            2.0492180226701815,
            1.2304489213782739,
            1.255272505103306
           ]
          },
          {
           "label": "conv_1_kernel_size",
           "range": [
            0,
            1
           ],
           "ticktext": [
            "3",
            "7"
           ],
           "tickvals": [
            0,
            1
           ],
           "values": [
            0,
            1,
            0
           ]
          },
          {
           "label": "conv_2_filters",
           "range": [
            1.3424226808222062,
            1.8808135922807914
           ],
           "ticktext": [
            "22",
            "76"
           ],
           "tickvals": [
            1.3424226808222062,
            1.8808135922807914
           ],
           "values": [
            1.3979400086720377,
            1.3424226808222062,
            1.8808135922807914
           ]
          },
          {
           "label": "conv_2_kernel_size",
           "range": [
            0,
            1
           ],
           "ticktext": [
            "5",
            "7"
           ],
           "tickvals": [
            0,
            1
           ],
           "values": [
            0,
            1,
            1
           ]
          },
          {
           "label": "conv_3_filters",
           "range": [
            1.2304489213782739,
            1.8976270912904414
           ],
           "ticktext": [
            "17",
            "79"
           ],
           "tickvals": [
            1.2304489213782739,
            1.8976270912904414
           ],
           "values": [
            1.2304489213782739,
            1.8976270912904414,
            1.2304489213782739
           ]
          },
          {
           "label": "conv_3_kernel_size",
           "range": [
            0,
            1
           ],
           "ticktext": [
            "3",
            "5"
           ],
           "tickvals": [
            0,
            1
           ],
           "values": [
            0,
            1,
            1
           ]
          },
          {
           "label": "lr_o",
           "range": [
            0,
            1
           ],
           "ticktext": [
            "0.001",
            "0.01"
           ],
           "tickvals": [
            0,
            1
           ],
           "values": [
            0,
            1,
            0
           ]
          },
          {
           "label": "num_conv_layers",
           "range": [
            4,
            4
           ],
           "values": [
            4,
            4,
            4
           ]
          },
          {
           "label": "optimizer",
           "range": [
            0,
            1
           ],
           "ticktext": [
            "sgd",
            "adam"
           ],
           "tickvals": [
            0,
            1
           ],
           "values": [
            1,
            0,
            0
           ]
          }
         ],
         "labelangle": 30,
         "labelside": "bottom",
         "line": {
          "color": [
           0.2858999967575073,
           0.29089999198913574,
           0.26179999113082886
          ],
          "colorbar": {
           "title": {
            "text": "Objective Value"
           }
          },
          "colorscale": [
           [
            0,
            "rgb(247,251,255)"
           ],
           [
            0.125,
            "rgb(222,235,247)"
           ],
           [
            0.25,
            "rgb(198,219,239)"
           ],
           [
            0.375,
            "rgb(158,202,225)"
           ],
           [
            0.5,
            "rgb(107,174,214)"
           ],
           [
            0.625,
            "rgb(66,146,198)"
           ],
           [
            0.75,
            "rgb(33,113,181)"
           ],
           [
            0.875,
            "rgb(8,81,156)"
           ],
           [
            1,
            "rgb(8,48,107)"
           ]
          ],
          "reversescale": false,
          "showscale": true
         },
         "type": "parcoords"
        }
       ],
       "layout": {
        "template": {
         "data": {
          "bar": [
           {
            "error_x": {
             "color": "#2a3f5f"
            },
            "error_y": {
             "color": "#2a3f5f"
            },
            "marker": {
             "line": {
              "color": "#E5ECF6",
              "width": 0.5
             },
             "pattern": {
              "fillmode": "overlay",
              "size": 10,
              "solidity": 0.2
             }
            },
            "type": "bar"
           }
          ],
          "barpolar": [
           {
            "marker": {
             "line": {
              "color": "#E5ECF6",
              "width": 0.5
             },
             "pattern": {
              "fillmode": "overlay",
              "size": 10,
              "solidity": 0.2
             }
            },
            "type": "barpolar"
           }
          ],
          "carpet": [
           {
            "aaxis": {
             "endlinecolor": "#2a3f5f",
             "gridcolor": "white",
             "linecolor": "white",
             "minorgridcolor": "white",
             "startlinecolor": "#2a3f5f"
            },
            "baxis": {
             "endlinecolor": "#2a3f5f",
             "gridcolor": "white",
             "linecolor": "white",
             "minorgridcolor": "white",
             "startlinecolor": "#2a3f5f"
            },
            "type": "carpet"
           }
          ],
          "choropleth": [
           {
            "colorbar": {
             "outlinewidth": 0,
             "ticks": ""
            },
            "type": "choropleth"
           }
          ],
          "contour": [
           {
            "colorbar": {
             "outlinewidth": 0,
             "ticks": ""
            },
            "colorscale": [
             [
              0,
              "#0d0887"
             ],
             [
              0.1111111111111111,
              "#46039f"
             ],
             [
              0.2222222222222222,
              "#7201a8"
             ],
             [
              0.3333333333333333,
              "#9c179e"
             ],
             [
              0.4444444444444444,
              "#bd3786"
             ],
             [
              0.5555555555555556,
              "#d8576b"
             ],
             [
              0.6666666666666666,
              "#ed7953"
             ],
             [
              0.7777777777777778,
              "#fb9f3a"
             ],
             [
              0.8888888888888888,
              "#fdca26"
             ],
             [
              1,
              "#f0f921"
             ]
            ],
            "type": "contour"
           }
          ],
          "contourcarpet": [
           {
            "colorbar": {
             "outlinewidth": 0,
             "ticks": ""
            },
            "type": "contourcarpet"
           }
          ],
          "heatmap": [
           {
            "colorbar": {
             "outlinewidth": 0,
             "ticks": ""
            },
            "colorscale": [
             [
              0,
              "#0d0887"
             ],
             [
              0.1111111111111111,
              "#46039f"
             ],
             [
              0.2222222222222222,
              "#7201a8"
             ],
             [
              0.3333333333333333,
              "#9c179e"
             ],
             [
              0.4444444444444444,
              "#bd3786"
             ],
             [
              0.5555555555555556,
              "#d8576b"
             ],
             [
              0.6666666666666666,
              "#ed7953"
             ],
             [
              0.7777777777777778,
              "#fb9f3a"
             ],
             [
              0.8888888888888888,
              "#fdca26"
             ],
             [
              1,
              "#f0f921"
             ]
            ],
            "type": "heatmap"
           }
          ],
          "heatmapgl": [
           {
            "colorbar": {
             "outlinewidth": 0,
             "ticks": ""
            },
            "colorscale": [
             [
              0,
              "#0d0887"
             ],
             [
              0.1111111111111111,
              "#46039f"
             ],
             [
              0.2222222222222222,
              "#7201a8"
             ],
             [
              0.3333333333333333,
              "#9c179e"
             ],
             [
              0.4444444444444444,
              "#bd3786"
             ],
             [
              0.5555555555555556,
              "#d8576b"
             ],
             [
              0.6666666666666666,
              "#ed7953"
             ],
             [
              0.7777777777777778,
              "#fb9f3a"
             ],
             [
              0.8888888888888888,
              "#fdca26"
             ],
             [
              1,
              "#f0f921"
             ]
            ],
            "type": "heatmapgl"
           }
          ],
          "histogram": [
           {
            "marker": {
             "pattern": {
              "fillmode": "overlay",
              "size": 10,
              "solidity": 0.2
             }
            },
            "type": "histogram"
           }
          ],
          "histogram2d": [
           {
            "colorbar": {
             "outlinewidth": 0,
             "ticks": ""
            },
            "colorscale": [
             [
              0,
              "#0d0887"
             ],
             [
              0.1111111111111111,
              "#46039f"
             ],
             [
              0.2222222222222222,
              "#7201a8"
             ],
             [
              0.3333333333333333,
              "#9c179e"
             ],
             [
              0.4444444444444444,
              "#bd3786"
             ],
             [
              0.5555555555555556,
              "#d8576b"
             ],
             [
              0.6666666666666666,
              "#ed7953"
             ],
             [
              0.7777777777777778,
              "#fb9f3a"
             ],
             [
              0.8888888888888888,
              "#fdca26"
             ],
             [
              1,
              "#f0f921"
             ]
            ],
            "type": "histogram2d"
           }
          ],
          "histogram2dcontour": [
           {
            "colorbar": {
             "outlinewidth": 0,
             "ticks": ""
            },
            "colorscale": [
             [
              0,
              "#0d0887"
             ],
             [
              0.1111111111111111,
              "#46039f"
             ],
             [
              0.2222222222222222,
              "#7201a8"
             ],
             [
              0.3333333333333333,
              "#9c179e"
             ],
             [
              0.4444444444444444,
              "#bd3786"
             ],
             [
              0.5555555555555556,
              "#d8576b"
             ],
             [
              0.6666666666666666,
              "#ed7953"
             ],
             [
              0.7777777777777778,
              "#fb9f3a"
             ],
             [
              0.8888888888888888,
              "#fdca26"
             ],
             [
              1,
              "#f0f921"
             ]
            ],
            "type": "histogram2dcontour"
           }
          ],
          "mesh3d": [
           {
            "colorbar": {
             "outlinewidth": 0,
             "ticks": ""
            },
            "type": "mesh3d"
           }
          ],
          "parcoords": [
           {
            "line": {
             "colorbar": {
              "outlinewidth": 0,
              "ticks": ""
             }
            },
            "type": "parcoords"
           }
          ],
          "pie": [
           {
            "automargin": true,
            "type": "pie"
           }
          ],
          "scatter": [
           {
            "fillpattern": {
             "fillmode": "overlay",
             "size": 10,
             "solidity": 0.2
            },
            "type": "scatter"
           }
          ],
          "scatter3d": [
           {
            "line": {
             "colorbar": {
              "outlinewidth": 0,
              "ticks": ""
             }
            },
            "marker": {
             "colorbar": {
              "outlinewidth": 0,
              "ticks": ""
             }
            },
            "type": "scatter3d"
           }
          ],
          "scattercarpet": [
           {
            "marker": {
             "colorbar": {
              "outlinewidth": 0,
              "ticks": ""
             }
            },
            "type": "scattercarpet"
           }
          ],
          "scattergeo": [
           {
            "marker": {
             "colorbar": {
              "outlinewidth": 0,
              "ticks": ""
             }
            },
            "type": "scattergeo"
           }
          ],
          "scattergl": [
           {
            "marker": {
             "colorbar": {
              "outlinewidth": 0,
              "ticks": ""
             }
            },
            "type": "scattergl"
           }
          ],
          "scattermapbox": [
           {
            "marker": {
             "colorbar": {
              "outlinewidth": 0,
              "ticks": ""
             }
            },
            "type": "scattermapbox"
           }
          ],
          "scatterpolar": [
           {
            "marker": {
             "colorbar": {
              "outlinewidth": 0,
              "ticks": ""
             }
            },
            "type": "scatterpolar"
           }
          ],
          "scatterpolargl": [
           {
            "marker": {
             "colorbar": {
              "outlinewidth": 0,
              "ticks": ""
             }
            },
            "type": "scatterpolargl"
           }
          ],
          "scatterternary": [
           {
            "marker": {
             "colorbar": {
              "outlinewidth": 0,
              "ticks": ""
             }
            },
            "type": "scatterternary"
           }
          ],
          "surface": [
           {
            "colorbar": {
             "outlinewidth": 0,
             "ticks": ""
            },
            "colorscale": [
             [
              0,
              "#0d0887"
             ],
             [
              0.1111111111111111,
              "#46039f"
             ],
             [
              0.2222222222222222,
              "#7201a8"
             ],
             [
              0.3333333333333333,
              "#9c179e"
             ],
             [
              0.4444444444444444,
              "#bd3786"
             ],
             [
              0.5555555555555556,
              "#d8576b"
             ],
             [
              0.6666666666666666,
              "#ed7953"
             ],
             [
              0.7777777777777778,
              "#fb9f3a"
             ],
             [
              0.8888888888888888,
              "#fdca26"
             ],
             [
              1,
              "#f0f921"
             ]
            ],
            "type": "surface"
           }
          ],
          "table": [
           {
            "cells": {
             "fill": {
              "color": "#EBF0F8"
             },
             "line": {
              "color": "white"
             }
            },
            "header": {
             "fill": {
              "color": "#C8D4E3"
             },
             "line": {
              "color": "white"
             }
            },
            "type": "table"
           }
          ]
         },
         "layout": {
          "annotationdefaults": {
           "arrowcolor": "#2a3f5f",
           "arrowhead": 0,
           "arrowwidth": 1
          },
          "autotypenumbers": "strict",
          "coloraxis": {
           "colorbar": {
            "outlinewidth": 0,
            "ticks": ""
           }
          },
          "colorscale": {
           "diverging": [
            [
             0,
             "#8e0152"
            ],
            [
             0.1,
             "#c51b7d"
            ],
            [
             0.2,
             "#de77ae"
            ],
            [
             0.3,
             "#f1b6da"
            ],
            [
             0.4,
             "#fde0ef"
            ],
            [
             0.5,
             "#f7f7f7"
            ],
            [
             0.6,
             "#e6f5d0"
            ],
            [
             0.7,
             "#b8e186"
            ],
            [
             0.8,
             "#7fbc41"
            ],
            [
             0.9,
             "#4d9221"
            ],
            [
             1,
             "#276419"
            ]
           ],
           "sequential": [
            [
             0,
             "#0d0887"
            ],
            [
             0.1111111111111111,
             "#46039f"
            ],
            [
             0.2222222222222222,
             "#7201a8"
            ],
            [
             0.3333333333333333,
             "#9c179e"
            ],
            [
             0.4444444444444444,
             "#bd3786"
            ],
            [
             0.5555555555555556,
             "#d8576b"
            ],
            [
             0.6666666666666666,
             "#ed7953"
            ],
            [
             0.7777777777777778,
             "#fb9f3a"
            ],
            [
             0.8888888888888888,
             "#fdca26"
            ],
            [
             1,
             "#f0f921"
            ]
           ],
           "sequentialminus": [
            [
             0,
             "#0d0887"
            ],
            [
             0.1111111111111111,
             "#46039f"
            ],
            [
             0.2222222222222222,
             "#7201a8"
            ],
            [
             0.3333333333333333,
             "#9c179e"
            ],
            [
             0.4444444444444444,
             "#bd3786"
            ],
            [
             0.5555555555555556,
             "#d8576b"
            ],
            [
             0.6666666666666666,
             "#ed7953"
            ],
            [
             0.7777777777777778,
             "#fb9f3a"
            ],
            [
             0.8888888888888888,
             "#fdca26"
            ],
            [
             1,
             "#f0f921"
            ]
           ]
          },
          "colorway": [
           "#636efa",
           "#EF553B",
           "#00cc96",
           "#ab63fa",
           "#FFA15A",
           "#19d3f3",
           "#FF6692",
           "#B6E880",
           "#FF97FF",
           "#FECB52"
          ],
          "font": {
           "color": "#2a3f5f"
          },
          "geo": {
           "bgcolor": "white",
           "lakecolor": "white",
           "landcolor": "#E5ECF6",
           "showlakes": true,
           "showland": true,
           "subunitcolor": "white"
          },
          "hoverlabel": {
           "align": "left"
          },
          "hovermode": "closest",
          "mapbox": {
           "style": "light"
          },
          "paper_bgcolor": "white",
          "plot_bgcolor": "#E5ECF6",
          "polar": {
           "angularaxis": {
            "gridcolor": "white",
            "linecolor": "white",
            "ticks": ""
           },
           "bgcolor": "#E5ECF6",
           "radialaxis": {
            "gridcolor": "white",
            "linecolor": "white",
            "ticks": ""
           }
          },
          "scene": {
           "xaxis": {
            "backgroundcolor": "#E5ECF6",
            "gridcolor": "white",
            "gridwidth": 2,
            "linecolor": "white",
            "showbackground": true,
            "ticks": "",
            "zerolinecolor": "white"
           },
           "yaxis": {
            "backgroundcolor": "#E5ECF6",
            "gridcolor": "white",
            "gridwidth": 2,
            "linecolor": "white",
            "showbackground": true,
            "ticks": "",
            "zerolinecolor": "white"
           },
           "zaxis": {
            "backgroundcolor": "#E5ECF6",
            "gridcolor": "white",
            "gridwidth": 2,
            "linecolor": "white",
            "showbackground": true,
            "ticks": "",
            "zerolinecolor": "white"
           }
          },
          "shapedefaults": {
           "line": {
            "color": "#2a3f5f"
           }
          },
          "ternary": {
           "aaxis": {
            "gridcolor": "white",
            "linecolor": "white",
            "ticks": ""
           },
           "baxis": {
            "gridcolor": "white",
            "linecolor": "white",
            "ticks": ""
           },
           "bgcolor": "#E5ECF6",
           "caxis": {
            "gridcolor": "white",
            "linecolor": "white",
            "ticks": ""
           }
          },
          "title": {
           "x": 0.05
          },
          "xaxis": {
           "automargin": true,
           "gridcolor": "white",
           "linecolor": "white",
           "ticks": "",
           "title": {
            "standoff": 15
           },
           "zerolinecolor": "white",
           "zerolinewidth": 2
          },
          "yaxis": {
           "automargin": true,
           "gridcolor": "white",
           "linecolor": "white",
           "ticks": "",
           "title": {
            "standoff": 15
           },
           "zerolinecolor": "white",
           "zerolinewidth": 2
          }
         }
        },
        "title": {
         "text": "Parallel Coordinate Plot"
        }
       }
      },
      "text/html": [
       "<div>                        <script type=\"text/javascript\">window.PlotlyConfig = {MathJaxConfig: 'local'};</script>\n",
       "        <script charset=\"utf-8\" src=\"https://cdn.plot.ly/plotly-2.27.0.min.js\"></script>                <div id=\"15d3030f-f923-4449-b4de-5f380e093d4b\" class=\"plotly-graph-div\" style=\"height:100%; width:100%;\"></div>            <script type=\"text/javascript\">                                    window.PLOTLYENV=window.PLOTLYENV || {};                                    if (document.getElementById(\"15d3030f-f923-4449-b4de-5f380e093d4b\")) {                    Plotly.newPlot(                        \"15d3030f-f923-4449-b4de-5f380e093d4b\",                        [{\"dimensions\":[{\"label\":\"Objective Value\",\"range\":[0.26179999113082886,0.29089999198913574],\"values\":[0.2858999967575073,0.29089999198913574,0.26179999113082886]},{\"label\":\"conv_0_filters\",\"range\":[1.5440680443502757,1.9777236052888478],\"ticktext\":[\"35\",\"95\"],\"tickvals\":[1.5440680443502757,1.9777236052888478],\"values\":[1.792391689498254,1.5440680443502757,1.9777236052888478]},{\"label\":\"conv_0_kernel_size\",\"range\":[0,1],\"ticktext\":[\"3\",\"5\"],\"tickvals\":[0,1],\"values\":[0,0,1]},{\"label\":\"conv_1_filters\",\"range\":[1.2304489213782739,2.0492180226701815],\"ticktext\":[\"17\",\"100\",\"112\"],\"tickvals\":[1.2304489213782739,2,2.0492180226701815],\"values\":[2.0492180226701815,1.2304489213782739,1.255272505103306]},{\"label\":\"conv_1_kernel_size\",\"range\":[0,1],\"ticktext\":[\"3\",\"7\"],\"tickvals\":[0,1],\"values\":[0,1,0]},{\"label\":\"conv_2_filters\",\"range\":[1.3424226808222062,1.8808135922807914],\"ticktext\":[\"22\",\"76\"],\"tickvals\":[1.3424226808222062,1.8808135922807914],\"values\":[1.3979400086720377,1.3424226808222062,1.8808135922807914]},{\"label\":\"conv_2_kernel_size\",\"range\":[0,1],\"ticktext\":[\"5\",\"7\"],\"tickvals\":[0,1],\"values\":[0,1,1]},{\"label\":\"conv_3_filters\",\"range\":[1.2304489213782739,1.8976270912904414],\"ticktext\":[\"17\",\"79\"],\"tickvals\":[1.2304489213782739,1.8976270912904414],\"values\":[1.2304489213782739,1.8976270912904414,1.2304489213782739]},{\"label\":\"conv_3_kernel_size\",\"range\":[0,1],\"ticktext\":[\"3\",\"5\"],\"tickvals\":[0,1],\"values\":[0,1,1]},{\"label\":\"lr_o\",\"range\":[0,1],\"ticktext\":[\"0.001\",\"0.01\"],\"tickvals\":[0,1],\"values\":[0,1,0]},{\"label\":\"num_conv_layers\",\"range\":[4,4],\"values\":[4,4,4]},{\"label\":\"optimizer\",\"range\":[0,1],\"ticktext\":[\"sgd\",\"adam\"],\"tickvals\":[0,1],\"values\":[1,0,0]}],\"labelangle\":30,\"labelside\":\"bottom\",\"line\":{\"color\":[0.2858999967575073,0.29089999198913574,0.26179999113082886],\"colorbar\":{\"title\":{\"text\":\"Objective Value\"}},\"colorscale\":[[0.0,\"rgb(247,251,255)\"],[0.125,\"rgb(222,235,247)\"],[0.25,\"rgb(198,219,239)\"],[0.375,\"rgb(158,202,225)\"],[0.5,\"rgb(107,174,214)\"],[0.625,\"rgb(66,146,198)\"],[0.75,\"rgb(33,113,181)\"],[0.875,\"rgb(8,81,156)\"],[1.0,\"rgb(8,48,107)\"]],\"reversescale\":false,\"showscale\":true},\"type\":\"parcoords\"}],                        {\"title\":{\"text\":\"Parallel Coordinate Plot\"},\"template\":{\"data\":{\"histogram2dcontour\":[{\"type\":\"histogram2dcontour\",\"colorbar\":{\"outlinewidth\":0,\"ticks\":\"\"},\"colorscale\":[[0.0,\"#0d0887\"],[0.1111111111111111,\"#46039f\"],[0.2222222222222222,\"#7201a8\"],[0.3333333333333333,\"#9c179e\"],[0.4444444444444444,\"#bd3786\"],[0.5555555555555556,\"#d8576b\"],[0.6666666666666666,\"#ed7953\"],[0.7777777777777778,\"#fb9f3a\"],[0.8888888888888888,\"#fdca26\"],[1.0,\"#f0f921\"]]}],\"choropleth\":[{\"type\":\"choropleth\",\"colorbar\":{\"outlinewidth\":0,\"ticks\":\"\"}}],\"histogram2d\":[{\"type\":\"histogram2d\",\"colorbar\":{\"outlinewidth\":0,\"ticks\":\"\"},\"colorscale\":[[0.0,\"#0d0887\"],[0.1111111111111111,\"#46039f\"],[0.2222222222222222,\"#7201a8\"],[0.3333333333333333,\"#9c179e\"],[0.4444444444444444,\"#bd3786\"],[0.5555555555555556,\"#d8576b\"],[0.6666666666666666,\"#ed7953\"],[0.7777777777777778,\"#fb9f3a\"],[0.8888888888888888,\"#fdca26\"],[1.0,\"#f0f921\"]]}],\"heatmap\":[{\"type\":\"heatmap\",\"colorbar\":{\"outlinewidth\":0,\"ticks\":\"\"},\"colorscale\":[[0.0,\"#0d0887\"],[0.1111111111111111,\"#46039f\"],[0.2222222222222222,\"#7201a8\"],[0.3333333333333333,\"#9c179e\"],[0.4444444444444444,\"#bd3786\"],[0.5555555555555556,\"#d8576b\"],[0.6666666666666666,\"#ed7953\"],[0.7777777777777778,\"#fb9f3a\"],[0.8888888888888888,\"#fdca26\"],[1.0,\"#f0f921\"]]}],\"heatmapgl\":[{\"type\":\"heatmapgl\",\"colorbar\":{\"outlinewidth\":0,\"ticks\":\"\"},\"colorscale\":[[0.0,\"#0d0887\"],[0.1111111111111111,\"#46039f\"],[0.2222222222222222,\"#7201a8\"],[0.3333333333333333,\"#9c179e\"],[0.4444444444444444,\"#bd3786\"],[0.5555555555555556,\"#d8576b\"],[0.6666666666666666,\"#ed7953\"],[0.7777777777777778,\"#fb9f3a\"],[0.8888888888888888,\"#fdca26\"],[1.0,\"#f0f921\"]]}],\"contourcarpet\":[{\"type\":\"contourcarpet\",\"colorbar\":{\"outlinewidth\":0,\"ticks\":\"\"}}],\"contour\":[{\"type\":\"contour\",\"colorbar\":{\"outlinewidth\":0,\"ticks\":\"\"},\"colorscale\":[[0.0,\"#0d0887\"],[0.1111111111111111,\"#46039f\"],[0.2222222222222222,\"#7201a8\"],[0.3333333333333333,\"#9c179e\"],[0.4444444444444444,\"#bd3786\"],[0.5555555555555556,\"#d8576b\"],[0.6666666666666666,\"#ed7953\"],[0.7777777777777778,\"#fb9f3a\"],[0.8888888888888888,\"#fdca26\"],[1.0,\"#f0f921\"]]}],\"surface\":[{\"type\":\"surface\",\"colorbar\":{\"outlinewidth\":0,\"ticks\":\"\"},\"colorscale\":[[0.0,\"#0d0887\"],[0.1111111111111111,\"#46039f\"],[0.2222222222222222,\"#7201a8\"],[0.3333333333333333,\"#9c179e\"],[0.4444444444444444,\"#bd3786\"],[0.5555555555555556,\"#d8576b\"],[0.6666666666666666,\"#ed7953\"],[0.7777777777777778,\"#fb9f3a\"],[0.8888888888888888,\"#fdca26\"],[1.0,\"#f0f921\"]]}],\"mesh3d\":[{\"type\":\"mesh3d\",\"colorbar\":{\"outlinewidth\":0,\"ticks\":\"\"}}],\"scatter\":[{\"fillpattern\":{\"fillmode\":\"overlay\",\"size\":10,\"solidity\":0.2},\"type\":\"scatter\"}],\"parcoords\":[{\"type\":\"parcoords\",\"line\":{\"colorbar\":{\"outlinewidth\":0,\"ticks\":\"\"}}}],\"scatterpolargl\":[{\"type\":\"scatterpolargl\",\"marker\":{\"colorbar\":{\"outlinewidth\":0,\"ticks\":\"\"}}}],\"bar\":[{\"error_x\":{\"color\":\"#2a3f5f\"},\"error_y\":{\"color\":\"#2a3f5f\"},\"marker\":{\"line\":{\"color\":\"#E5ECF6\",\"width\":0.5},\"pattern\":{\"fillmode\":\"overlay\",\"size\":10,\"solidity\":0.2}},\"type\":\"bar\"}],\"scattergeo\":[{\"type\":\"scattergeo\",\"marker\":{\"colorbar\":{\"outlinewidth\":0,\"ticks\":\"\"}}}],\"scatterpolar\":[{\"type\":\"scatterpolar\",\"marker\":{\"colorbar\":{\"outlinewidth\":0,\"ticks\":\"\"}}}],\"histogram\":[{\"marker\":{\"pattern\":{\"fillmode\":\"overlay\",\"size\":10,\"solidity\":0.2}},\"type\":\"histogram\"}],\"scattergl\":[{\"type\":\"scattergl\",\"marker\":{\"colorbar\":{\"outlinewidth\":0,\"ticks\":\"\"}}}],\"scatter3d\":[{\"type\":\"scatter3d\",\"line\":{\"colorbar\":{\"outlinewidth\":0,\"ticks\":\"\"}},\"marker\":{\"colorbar\":{\"outlinewidth\":0,\"ticks\":\"\"}}}],\"scattermapbox\":[{\"type\":\"scattermapbox\",\"marker\":{\"colorbar\":{\"outlinewidth\":0,\"ticks\":\"\"}}}],\"scatterternary\":[{\"type\":\"scatterternary\",\"marker\":{\"colorbar\":{\"outlinewidth\":0,\"ticks\":\"\"}}}],\"scattercarpet\":[{\"type\":\"scattercarpet\",\"marker\":{\"colorbar\":{\"outlinewidth\":0,\"ticks\":\"\"}}}],\"carpet\":[{\"aaxis\":{\"endlinecolor\":\"#2a3f5f\",\"gridcolor\":\"white\",\"linecolor\":\"white\",\"minorgridcolor\":\"white\",\"startlinecolor\":\"#2a3f5f\"},\"baxis\":{\"endlinecolor\":\"#2a3f5f\",\"gridcolor\":\"white\",\"linecolor\":\"white\",\"minorgridcolor\":\"white\",\"startlinecolor\":\"#2a3f5f\"},\"type\":\"carpet\"}],\"table\":[{\"cells\":{\"fill\":{\"color\":\"#EBF0F8\"},\"line\":{\"color\":\"white\"}},\"header\":{\"fill\":{\"color\":\"#C8D4E3\"},\"line\":{\"color\":\"white\"}},\"type\":\"table\"}],\"barpolar\":[{\"marker\":{\"line\":{\"color\":\"#E5ECF6\",\"width\":0.5},\"pattern\":{\"fillmode\":\"overlay\",\"size\":10,\"solidity\":0.2}},\"type\":\"barpolar\"}],\"pie\":[{\"automargin\":true,\"type\":\"pie\"}]},\"layout\":{\"autotypenumbers\":\"strict\",\"colorway\":[\"#636efa\",\"#EF553B\",\"#00cc96\",\"#ab63fa\",\"#FFA15A\",\"#19d3f3\",\"#FF6692\",\"#B6E880\",\"#FF97FF\",\"#FECB52\"],\"font\":{\"color\":\"#2a3f5f\"},\"hovermode\":\"closest\",\"hoverlabel\":{\"align\":\"left\"},\"paper_bgcolor\":\"white\",\"plot_bgcolor\":\"#E5ECF6\",\"polar\":{\"bgcolor\":\"#E5ECF6\",\"angularaxis\":{\"gridcolor\":\"white\",\"linecolor\":\"white\",\"ticks\":\"\"},\"radialaxis\":{\"gridcolor\":\"white\",\"linecolor\":\"white\",\"ticks\":\"\"}},\"ternary\":{\"bgcolor\":\"#E5ECF6\",\"aaxis\":{\"gridcolor\":\"white\",\"linecolor\":\"white\",\"ticks\":\"\"},\"baxis\":{\"gridcolor\":\"white\",\"linecolor\":\"white\",\"ticks\":\"\"},\"caxis\":{\"gridcolor\":\"white\",\"linecolor\":\"white\",\"ticks\":\"\"}},\"coloraxis\":{\"colorbar\":{\"outlinewidth\":0,\"ticks\":\"\"}},\"colorscale\":{\"sequential\":[[0.0,\"#0d0887\"],[0.1111111111111111,\"#46039f\"],[0.2222222222222222,\"#7201a8\"],[0.3333333333333333,\"#9c179e\"],[0.4444444444444444,\"#bd3786\"],[0.5555555555555556,\"#d8576b\"],[0.6666666666666666,\"#ed7953\"],[0.7777777777777778,\"#fb9f3a\"],[0.8888888888888888,\"#fdca26\"],[1.0,\"#f0f921\"]],\"sequentialminus\":[[0.0,\"#0d0887\"],[0.1111111111111111,\"#46039f\"],[0.2222222222222222,\"#7201a8\"],[0.3333333333333333,\"#9c179e\"],[0.4444444444444444,\"#bd3786\"],[0.5555555555555556,\"#d8576b\"],[0.6666666666666666,\"#ed7953\"],[0.7777777777777778,\"#fb9f3a\"],[0.8888888888888888,\"#fdca26\"],[1.0,\"#f0f921\"]],\"diverging\":[[0,\"#8e0152\"],[0.1,\"#c51b7d\"],[0.2,\"#de77ae\"],[0.3,\"#f1b6da\"],[0.4,\"#fde0ef\"],[0.5,\"#f7f7f7\"],[0.6,\"#e6f5d0\"],[0.7,\"#b8e186\"],[0.8,\"#7fbc41\"],[0.9,\"#4d9221\"],[1,\"#276419\"]]},\"xaxis\":{\"gridcolor\":\"white\",\"linecolor\":\"white\",\"ticks\":\"\",\"title\":{\"standoff\":15},\"zerolinecolor\":\"white\",\"automargin\":true,\"zerolinewidth\":2},\"yaxis\":{\"gridcolor\":\"white\",\"linecolor\":\"white\",\"ticks\":\"\",\"title\":{\"standoff\":15},\"zerolinecolor\":\"white\",\"automargin\":true,\"zerolinewidth\":2},\"scene\":{\"xaxis\":{\"backgroundcolor\":\"#E5ECF6\",\"gridcolor\":\"white\",\"linecolor\":\"white\",\"showbackground\":true,\"ticks\":\"\",\"zerolinecolor\":\"white\",\"gridwidth\":2},\"yaxis\":{\"backgroundcolor\":\"#E5ECF6\",\"gridcolor\":\"white\",\"linecolor\":\"white\",\"showbackground\":true,\"ticks\":\"\",\"zerolinecolor\":\"white\",\"gridwidth\":2},\"zaxis\":{\"backgroundcolor\":\"#E5ECF6\",\"gridcolor\":\"white\",\"linecolor\":\"white\",\"showbackground\":true,\"ticks\":\"\",\"zerolinecolor\":\"white\",\"gridwidth\":2}},\"shapedefaults\":{\"line\":{\"color\":\"#2a3f5f\"}},\"annotationdefaults\":{\"arrowcolor\":\"#2a3f5f\",\"arrowhead\":0,\"arrowwidth\":1},\"geo\":{\"bgcolor\":\"white\",\"landcolor\":\"#E5ECF6\",\"subunitcolor\":\"white\",\"showland\":true,\"showlakes\":true,\"lakecolor\":\"white\"},\"title\":{\"x\":0.05},\"mapbox\":{\"style\":\"light\"}}}},                        {\"responsive\": true}                    )                };                            </script>        </div>"
      ],
      "text/plain": [
       "Figure({\n",
       "    'data': [{'dimensions': [{'label': 'Objective Value',\n",
       "                              'range': [0.26179999113082886, 0.29089999198913574],\n",
       "                              'values': [0.2858999967575073, 0.29089999198913574,\n",
       "                                         0.26179999113082886]},\n",
       "                             {'label': 'conv_0_filters',\n",
       "                              'range': [1.5440680443502757, 1.9777236052888478],\n",
       "                              'ticktext': [35, 95],\n",
       "                              'tickvals': [1.5440680443502757, 1.9777236052888478],\n",
       "                              'values': [1.792391689498254, 1.5440680443502757,\n",
       "                                         1.9777236052888478]},\n",
       "                             {'label': 'conv_0_kernel_size',\n",
       "                              'range': [0, 1],\n",
       "                              'ticktext': [3, 5],\n",
       "                              'tickvals': [0, 1],\n",
       "                              'values': [0, 0, 1]},\n",
       "                             {'label': 'conv_1_filters',\n",
       "                              'range': [1.2304489213782739, 2.0492180226701815],\n",
       "                              'ticktext': [17, 100, 112],\n",
       "                              'tickvals': [1.2304489213782739, 2,\n",
       "                                           2.0492180226701815],\n",
       "                              'values': [2.0492180226701815, 1.2304489213782739,\n",
       "                                         1.255272505103306]},\n",
       "                             {'label': 'conv_1_kernel_size',\n",
       "                              'range': [0, 1],\n",
       "                              'ticktext': [3, 7],\n",
       "                              'tickvals': [0, 1],\n",
       "                              'values': [0, 1, 0]},\n",
       "                             {'label': 'conv_2_filters',\n",
       "                              'range': [1.3424226808222062, 1.8808135922807914],\n",
       "                              'ticktext': [22, 76],\n",
       "                              'tickvals': [1.3424226808222062, 1.8808135922807914],\n",
       "                              'values': [1.3979400086720377, 1.3424226808222062,\n",
       "                                         1.8808135922807914]},\n",
       "                             {'label': 'conv_2_kernel_size',\n",
       "                              'range': [0, 1],\n",
       "                              'ticktext': [5, 7],\n",
       "                              'tickvals': [0, 1],\n",
       "                              'values': [0, 1, 1]},\n",
       "                             {'label': 'conv_3_filters',\n",
       "                              'range': [1.2304489213782739, 1.8976270912904414],\n",
       "                              'ticktext': [17, 79],\n",
       "                              'tickvals': [1.2304489213782739, 1.8976270912904414],\n",
       "                              'values': [1.2304489213782739, 1.8976270912904414,\n",
       "                                         1.2304489213782739]},\n",
       "                             {'label': 'conv_3_kernel_size',\n",
       "                              'range': [0, 1],\n",
       "                              'ticktext': [3, 5],\n",
       "                              'tickvals': [0, 1],\n",
       "                              'values': [0, 1, 1]},\n",
       "                             {'label': 'lr_o',\n",
       "                              'range': [0, 1],\n",
       "                              'ticktext': [0.001, 0.01],\n",
       "                              'tickvals': [0, 1],\n",
       "                              'values': [0, 1, 0]},\n",
       "                             {'label': 'num_conv_layers', 'range': [4, 4], 'values': [4, 4, 4]},\n",
       "                             {'label': 'optimizer',\n",
       "                              'range': [0, 1],\n",
       "                              'ticktext': [sgd, adam],\n",
       "                              'tickvals': [0, 1],\n",
       "                              'values': [1, 0, 0]}],\n",
       "              'labelangle': 30,\n",
       "              'labelside': 'bottom',\n",
       "              'line': {'color': [0.2858999967575073, 0.29089999198913574,\n",
       "                                 0.26179999113082886],\n",
       "                       'colorbar': {'title': {'text': 'Objective Value'}},\n",
       "                       'colorscale': [[0.0, 'rgb(247,251,255)'], [0.125,\n",
       "                                      'rgb(222,235,247)'], [0.25,\n",
       "                                      'rgb(198,219,239)'], [0.375,\n",
       "                                      'rgb(158,202,225)'], [0.5,\n",
       "                                      'rgb(107,174,214)'], [0.625,\n",
       "                                      'rgb(66,146,198)'], [0.75,\n",
       "                                      'rgb(33,113,181)'], [0.875, 'rgb(8,81,156)'],\n",
       "                                      [1.0, 'rgb(8,48,107)']],\n",
       "                       'reversescale': False,\n",
       "                       'showscale': True},\n",
       "              'type': 'parcoords'}],\n",
       "    'layout': {'template': '...', 'title': {'text': 'Parallel Coordinate Plot'}}\n",
       "})"
      ]
     },
     "execution_count": 1,
     "metadata": {},
     "output_type": "execute_result"
    }
   ],
   "source": [
    "import optuna\n",
    "\n",
    "from optuna.visualization import plot_contour\n",
    "from optuna.visualization import plot_edf\n",
    "from optuna.visualization import plot_intermediate_values\n",
    "from optuna.visualization import plot_optimization_history\n",
    "from optuna.visualization import plot_parallel_coordinate\n",
    "from optuna.visualization import plot_param_importances\n",
    "from optuna.visualization import plot_rank\n",
    "from optuna.visualization import plot_slice\n",
    "from optuna.visualization import plot_timeline\n",
    "\n",
    "import plotly\n",
    "\n",
    "study = optuna.load_study(study_name=\"bestArch1\", storage=\"sqlite:///optuna.db\")\n",
    "params = study.best_params\n",
    "print(params)\n",
    "\n",
    "plot_parallel_coordinate(study)"
   ]
  },
  {
   "cell_type": "code",
   "execution_count": 2,
   "metadata": {},
   "outputs": [
    {
     "name": "stderr",
     "output_type": "stream",
     "text": [
      "C:\\Users\\Pablo\\AppData\\Local\\Temp\\ipykernel_7292\\547629393.py:1: ExperimentalWarning:\n",
      "\n",
      "plot_timeline is experimental (supported from v3.2.0). The interface can change in the future.\n",
      "\n"
     ]
    },
    {
     "ename": "ValueError",
     "evalue": "Mime type rendering requires nbformat>=4.2.0 but it is not installed",
     "output_type": "error",
     "traceback": [
      "\u001b[1;31m---------------------------------------------------------------------------\u001b[0m",
      "\u001b[1;31mValueError\u001b[0m                                Traceback (most recent call last)",
      "File \u001b[1;32md:\\Documentos\\Master\\C3 MCV\\C3\\.venv\\lib\\site-packages\\IPython\\core\\formatters.py:922\u001b[0m, in \u001b[0;36mIPythonDisplayFormatter.__call__\u001b[1;34m(self, obj)\u001b[0m\n\u001b[0;32m    920\u001b[0m method \u001b[38;5;241m=\u001b[39m get_real_method(obj, \u001b[38;5;28mself\u001b[39m\u001b[38;5;241m.\u001b[39mprint_method)\n\u001b[0;32m    921\u001b[0m \u001b[38;5;28;01mif\u001b[39;00m method \u001b[38;5;129;01mis\u001b[39;00m \u001b[38;5;129;01mnot\u001b[39;00m \u001b[38;5;28;01mNone\u001b[39;00m:\n\u001b[1;32m--> 922\u001b[0m     \u001b[43mmethod\u001b[49m\u001b[43m(\u001b[49m\u001b[43m)\u001b[49m\n\u001b[0;32m    923\u001b[0m     \u001b[38;5;28;01mreturn\u001b[39;00m \u001b[38;5;28;01mTrue\u001b[39;00m\n",
      "File \u001b[1;32md:\\Documentos\\Master\\C3 MCV\\C3\\.venv\\lib\\site-packages\\plotly\\basedatatypes.py:832\u001b[0m, in \u001b[0;36mBaseFigure._ipython_display_\u001b[1;34m(self)\u001b[0m\n\u001b[0;32m    829\u001b[0m \u001b[38;5;28;01mimport\u001b[39;00m \u001b[38;5;21;01mplotly\u001b[39;00m\u001b[38;5;21;01m.\u001b[39;00m\u001b[38;5;21;01mio\u001b[39;00m \u001b[38;5;28;01mas\u001b[39;00m \u001b[38;5;21;01mpio\u001b[39;00m\n\u001b[0;32m    831\u001b[0m \u001b[38;5;28;01mif\u001b[39;00m pio\u001b[38;5;241m.\u001b[39mrenderers\u001b[38;5;241m.\u001b[39mrender_on_display \u001b[38;5;129;01mand\u001b[39;00m pio\u001b[38;5;241m.\u001b[39mrenderers\u001b[38;5;241m.\u001b[39mdefault:\n\u001b[1;32m--> 832\u001b[0m     \u001b[43mpio\u001b[49m\u001b[38;5;241;43m.\u001b[39;49m\u001b[43mshow\u001b[49m\u001b[43m(\u001b[49m\u001b[38;5;28;43mself\u001b[39;49m\u001b[43m)\u001b[49m\n\u001b[0;32m    833\u001b[0m \u001b[38;5;28;01melse\u001b[39;00m:\n\u001b[0;32m    834\u001b[0m     \u001b[38;5;28mprint\u001b[39m(\u001b[38;5;28mrepr\u001b[39m(\u001b[38;5;28mself\u001b[39m))\n",
      "File \u001b[1;32md:\\Documentos\\Master\\C3 MCV\\C3\\.venv\\lib\\site-packages\\plotly\\io\\_renderers.py:394\u001b[0m, in \u001b[0;36mshow\u001b[1;34m(fig, renderer, validate, **kwargs)\u001b[0m\n\u001b[0;32m    389\u001b[0m         \u001b[38;5;28;01mraise\u001b[39;00m \u001b[38;5;167;01mValueError\u001b[39;00m(\n\u001b[0;32m    390\u001b[0m             \u001b[38;5;124m\"\u001b[39m\u001b[38;5;124mMime type rendering requires ipython but it is not installed\u001b[39m\u001b[38;5;124m\"\u001b[39m\n\u001b[0;32m    391\u001b[0m         )\n\u001b[0;32m    393\u001b[0m     \u001b[38;5;28;01mif\u001b[39;00m \u001b[38;5;129;01mnot\u001b[39;00m nbformat \u001b[38;5;129;01mor\u001b[39;00m Version(nbformat\u001b[38;5;241m.\u001b[39m__version__) \u001b[38;5;241m<\u001b[39m Version(\u001b[38;5;124m\"\u001b[39m\u001b[38;5;124m4.2.0\u001b[39m\u001b[38;5;124m\"\u001b[39m):\n\u001b[1;32m--> 394\u001b[0m         \u001b[38;5;28;01mraise\u001b[39;00m \u001b[38;5;167;01mValueError\u001b[39;00m(\n\u001b[0;32m    395\u001b[0m             \u001b[38;5;124m\"\u001b[39m\u001b[38;5;124mMime type rendering requires nbformat>=4.2.0 but it is not installed\u001b[39m\u001b[38;5;124m\"\u001b[39m\n\u001b[0;32m    396\u001b[0m         )\n\u001b[0;32m    398\u001b[0m     ipython_display\u001b[38;5;241m.\u001b[39mdisplay(bundle, raw\u001b[38;5;241m=\u001b[39m\u001b[38;5;28;01mTrue\u001b[39;00m)\n\u001b[0;32m    400\u001b[0m \u001b[38;5;66;03m# external renderers\u001b[39;00m\n",
      "\u001b[1;31mValueError\u001b[0m: Mime type rendering requires nbformat>=4.2.0 but it is not installed"
     ]
    },
    {
     "data": {
      "application/vnd.plotly.v1+json": {
       "config": {
        "plotlyServerURL": "https://plot.ly"
       },
       "data": [
        {
         "base": [
          "2024-01-27T00:18:04.562838",
          "2024-01-27T00:37:24.130040",
          "2024-01-27T00:59:30.289170",
          "2024-01-27T01:17:20.552049",
          "2024-01-27T01:30:58.434043",
          "2024-01-27T01:50:48.479059",
          "2024-01-27T02:11:25.944841",
          "2024-01-27T02:29:41.466138",
          "2024-01-27T02:50:10.986072",
          "2024-01-27T03:06:30.945310",
          "2024-01-27T03:20:42.695234",
          "2024-01-27T03:31:31.896877",
          "2024-01-27T03:45:19.052269",
          "2024-01-27T03:59:32.222684",
          "2024-01-27T04:12:51.792926",
          "2024-01-27T04:23:24.150124",
          "2024-01-27T04:37:33.414420",
          "2024-01-27T04:51:56.594497",
          "2024-01-27T05:02:54.336861"
         ],
         "hovertemplate": "%{text}<extra>COMPLETE</extra>",
         "marker": {
          "color": "blue"
         },
         "name": "COMPLETE",
         "orientation": "h",
         "text": [
          "{<br>  \"number\": 0,<br>  \"values\": [<br>    0.26179999113082886<br>  ],<br>  \"params\": {<br>    \"conv_0_filters\": 95,<br>    \"conv_0_kernel_size\": 5,<br>    \"num_conv_layers\": 4,<br>    \"conv_1_filters\": 18,<br>    \"conv_1_kernel_size\": 3,<br>    \"conv_2_filters\": 76,<br>    \"conv_2_kernel_size\": 7,<br>    \"conv_3_filters\": 17,<br>    \"conv_3_kernel_size\": 5,<br>    \"optimizer\": \"sgd\",<br>    \"lr_o\": 0.001<br>  }<br>}",
          "{<br>  \"number\": 1,<br>  \"values\": [<br>    0.29089999198913574<br>  ],<br>  \"params\": {<br>    \"conv_0_filters\": 35,<br>    \"conv_0_kernel_size\": 3,<br>    \"num_conv_layers\": 4,<br>    \"conv_1_filters\": 17,<br>    \"conv_1_kernel_size\": 7,<br>    \"conv_2_filters\": 22,<br>    \"conv_2_kernel_size\": 7,<br>    \"conv_3_filters\": 79,<br>    \"conv_3_kernel_size\": 5,<br>    \"optimizer\": \"sgd\",<br>    \"lr_o\": 0.01<br>  }<br>}",
          "{<br>  \"number\": 2,<br>  \"values\": [<br>    0.3068999946117401<br>  ],<br>  \"params\": {<br>    \"conv_0_filters\": 108,<br>    \"conv_0_kernel_size\": 3,<br>    \"num_conv_layers\": 2,<br>    \"conv_1_filters\": 23,<br>    \"conv_1_kernel_size\": 3,<br>    \"optimizer\": \"adam\",<br>    \"lr_o\": 0.001<br>  }<br>}",
          "{<br>  \"number\": 3,<br>  \"values\": [<br>    0.0982000008225441<br>  ],<br>  \"params\": {<br>    \"conv_0_filters\": 35,<br>    \"conv_0_kernel_size\": 7,<br>    \"num_conv_layers\": 1,<br>    \"optimizer\": \"sgd\",<br>    \"lr_o\": 0.1<br>  }<br>}",
          "{<br>  \"number\": 4,<br>  \"values\": [<br>    0.009999999776482582<br>  ],<br>  \"params\": {<br>    \"conv_0_filters\": 60,<br>    \"conv_0_kernel_size\": 5,<br>    \"num_conv_layers\": 3,<br>    \"conv_1_filters\": 27,<br>    \"conv_1_kernel_size\": 7,<br>    \"conv_2_filters\": 52,<br>    \"conv_2_kernel_size\": 3,<br>    \"optimizer\": \"adam\",<br>    \"lr_o\": 0.1<br>  }<br>}",
          "{<br>  \"number\": 5,<br>  \"values\": [<br>    0.3077000081539154<br>  ],<br>  \"params\": {<br>    \"conv_0_filters\": 47,<br>    \"conv_0_kernel_size\": 5,<br>    \"num_conv_layers\": 3,<br>    \"conv_1_filters\": 100,<br>    \"conv_1_kernel_size\": 5,<br>    \"conv_2_filters\": 54,<br>    \"conv_2_kernel_size\": 5,<br>    \"optimizer\": \"sgd\",<br>    \"lr_o\": 0.001<br>  }<br>}",
          "{<br>  \"number\": 6,<br>  \"values\": [<br>    0.2207999974489212<br>  ],<br>  \"params\": {<br>    \"conv_0_filters\": 36,<br>    \"conv_0_kernel_size\": 7,<br>    \"num_conv_layers\": 3,<br>    \"conv_1_filters\": 71,<br>    \"conv_1_kernel_size\": 5,<br>    \"conv_2_filters\": 30,<br>    \"conv_2_kernel_size\": 7,<br>    \"optimizer\": \"adam\",<br>    \"lr_o\": 0.01<br>  }<br>}",
          "{<br>  \"number\": 7,<br>  \"values\": [<br>    0.2858999967575073<br>  ],<br>  \"params\": {<br>    \"conv_0_filters\": 62,<br>    \"conv_0_kernel_size\": 3,<br>    \"num_conv_layers\": 4,<br>    \"conv_1_filters\": 112,<br>    \"conv_1_kernel_size\": 3,<br>    \"conv_2_filters\": 25,<br>    \"conv_2_kernel_size\": 5,<br>    \"conv_3_filters\": 17,<br>    \"conv_3_kernel_size\": 3,<br>    \"optimizer\": \"adam\",<br>    \"lr_o\": 0.001<br>  }<br>}",
          "{<br>  \"number\": 8,<br>  \"values\": [<br>    0.00989999994635582<br>  ],<br>  \"params\": {<br>    \"conv_0_filters\": 54,<br>    \"conv_0_kernel_size\": 7,<br>    \"num_conv_layers\": 3,<br>    \"conv_1_filters\": 20,<br>    \"conv_1_kernel_size\": 5,<br>    \"conv_2_filters\": 121,<br>    \"conv_2_kernel_size\": 5,<br>    \"optimizer\": \"adam\",<br>    \"lr_o\": 0.1<br>  }<br>}",
          "{<br>  \"number\": 9,<br>  \"values\": [<br>    0.34439998865127563<br>  ],<br>  \"params\": {<br>    \"conv_0_filters\": 69,<br>    \"conv_0_kernel_size\": 3,<br>    \"num_conv_layers\": 2,<br>    \"conv_1_filters\": 51,<br>    \"conv_1_kernel_size\": 7,<br>    \"optimizer\": \"sgd\",<br>    \"lr_o\": 0.001<br>  }<br>}",
          "{<br>  \"number\": 10,<br>  \"values\": [<br>    0.28209999203681946<br>  ],<br>  \"params\": {<br>    \"conv_0_filters\": 17,<br>    \"conv_0_kernel_size\": 3,<br>    \"num_conv_layers\": 1,<br>    \"optimizer\": \"sgd\",<br>    \"lr_o\": 0.001<br>  }<br>}",
          "{<br>  \"number\": 11,<br>  \"values\": [<br>    0.3546000123023987<br>  ],<br>  \"params\": {<br>    \"conv_0_filters\": 79,<br>    \"conv_0_kernel_size\": 5,<br>    \"num_conv_layers\": 2,<br>    \"conv_1_filters\": 50,<br>    \"conv_1_kernel_size\": 5,<br>    \"optimizer\": \"sgd\",<br>    \"lr_o\": 0.001<br>  }<br>}",
          "{<br>  \"number\": 12,<br>  \"values\": [<br>    0.3271999955177307<br>  ],<br>  \"params\": {<br>    \"conv_0_filters\": 84,<br>    \"conv_0_kernel_size\": 5,<br>    \"num_conv_layers\": 2,<br>    \"conv_1_filters\": 44,<br>    \"conv_1_kernel_size\": 7,<br>    \"optimizer\": \"sgd\",<br>    \"lr_o\": 0.001<br>  }<br>}",
          "{<br>  \"number\": 13,<br>  \"values\": [<br>    0.36500000953674316<br>  ],<br>  \"params\": {<br>    \"conv_0_filters\": 76,<br>    \"conv_0_kernel_size\": 3,<br>    \"num_conv_layers\": 2,<br>    \"conv_1_filters\": 47,<br>    \"conv_1_kernel_size\": 5,<br>    \"optimizer\": \"sgd\",<br>    \"lr_o\": 0.001<br>  }<br>}",
          "{<br>  \"number\": 14,<br>  \"values\": [<br>    0.2994000017642975<br>  ],<br>  \"params\": {<br>    \"conv_0_filters\": 123,<br>    \"conv_0_kernel_size\": 5,<br>    \"num_conv_layers\": 1,<br>    \"optimizer\": \"sgd\",<br>    \"lr_o\": 0.001<br>  }<br>}",
          "{<br>  \"number\": 15,<br>  \"values\": [<br>    0.3343000113964081<br>  ],<br>  \"params\": {<br>    \"conv_0_filters\": 79,<br>    \"conv_0_kernel_size\": 3,<br>    \"num_conv_layers\": 2,<br>    \"conv_1_filters\": 37,<br>    \"conv_1_kernel_size\": 5,<br>    \"optimizer\": \"sgd\",<br>    \"lr_o\": 0.01<br>  }<br>}",
          "{<br>  \"number\": 16,<br>  \"values\": [<br>    0.34279999136924744<br>  ],<br>  \"params\": {<br>    \"conv_0_filters\": 24,<br>    \"conv_0_kernel_size\": 5,<br>    \"num_conv_layers\": 2,<br>    \"conv_1_filters\": 63,<br>    \"conv_1_kernel_size\": 5,<br>    \"optimizer\": \"sgd\",<br>    \"lr_o\": 0.001<br>  }<br>}",
          "{<br>  \"number\": 17,<br>  \"values\": [<br>    0.29899999499320984<br>  ],<br>  \"params\": {<br>    \"conv_0_filters\": 79,<br>    \"conv_0_kernel_size\": 5,<br>    \"num_conv_layers\": 1,<br>    \"optimizer\": \"sgd\",<br>    \"lr_o\": 0.001<br>  }<br>}",
          "{<br>  \"number\": 18,<br>  \"values\": [<br>    0.2842999994754791<br>  ],<br>  \"params\": {<br>    \"conv_0_filters\": 46,<br>    \"conv_0_kernel_size\": 3,<br>    \"num_conv_layers\": 2,<br>    \"conv_1_filters\": 33,<br>    \"conv_1_kernel_size\": 5,<br>    \"optimizer\": \"sgd\",<br>    \"lr_o\": 0.1<br>  }<br>}"
         ],
         "textposition": "none",
         "type": "bar",
         "x": [
          1159385.1030000001,
          1325193.9500000002,
          1069756.291,
          816605.548,
          1189401.4870000002,
          1236774.981,
          1092350.37,
          1229095.152,
          979496.575,
          851588.451,
          649085.542,
          826755.683,
          852798.9569999999,
          799158.7540000001,
          632258.01,
          848886.3239999999,
          862789.107,
          657348.353,
          844198.942
         ],
         "y": [
          0,
          1,
          2,
          3,
          4,
          5,
          6,
          7,
          8,
          9,
          10,
          11,
          12,
          13,
          14,
          15,
          16,
          17,
          18
         ]
        },
        {
         "base": [
          "2024-01-27T05:16:58.657485"
         ],
         "hovertemplate": "%{text}<extra>RUNNING</extra>",
         "marker": {
          "color": "green"
         },
         "name": "RUNNING",
         "orientation": "h",
         "text": [
          "{<br>  \"number\": 19,<br>  \"values\": null,<br>  \"params\": {<br>    \"conv_0_filters\": 126,<br>    \"conv_0_kernel_size\": 7,<br>    \"num_conv_layers\": 3,<br>    \"conv_1_filters\": 74,<br>    \"conv_1_kernel_size\": 5,<br>    \"conv_2_filters\": 16,<br>    \"conv_2_kernel_size\": 3,<br>    \"optimizer\": \"sgd\",<br>    \"lr_o\": 0.01<br>  }<br>}"
         ],
         "textposition": "none",
         "type": "bar",
         "x": [
          11871826.329
         ],
         "y": [
          19
         ]
        }
       ],
       "layout": {
        "showlegend": true,
        "template": {
         "data": {
          "bar": [
           {
            "error_x": {
             "color": "#2a3f5f"
            },
            "error_y": {
             "color": "#2a3f5f"
            },
            "marker": {
             "line": {
              "color": "#E5ECF6",
              "width": 0.5
             },
             "pattern": {
              "fillmode": "overlay",
              "size": 10,
              "solidity": 0.2
             }
            },
            "type": "bar"
           }
          ],
          "barpolar": [
           {
            "marker": {
             "line": {
              "color": "#E5ECF6",
              "width": 0.5
             },
             "pattern": {
              "fillmode": "overlay",
              "size": 10,
              "solidity": 0.2
             }
            },
            "type": "barpolar"
           }
          ],
          "carpet": [
           {
            "aaxis": {
             "endlinecolor": "#2a3f5f",
             "gridcolor": "white",
             "linecolor": "white",
             "minorgridcolor": "white",
             "startlinecolor": "#2a3f5f"
            },
            "baxis": {
             "endlinecolor": "#2a3f5f",
             "gridcolor": "white",
             "linecolor": "white",
             "minorgridcolor": "white",
             "startlinecolor": "#2a3f5f"
            },
            "type": "carpet"
           }
          ],
          "choropleth": [
           {
            "colorbar": {
             "outlinewidth": 0,
             "ticks": ""
            },
            "type": "choropleth"
           }
          ],
          "contour": [
           {
            "colorbar": {
             "outlinewidth": 0,
             "ticks": ""
            },
            "colorscale": [
             [
              0,
              "#0d0887"
             ],
             [
              0.1111111111111111,
              "#46039f"
             ],
             [
              0.2222222222222222,
              "#7201a8"
             ],
             [
              0.3333333333333333,
              "#9c179e"
             ],
             [
              0.4444444444444444,
              "#bd3786"
             ],
             [
              0.5555555555555556,
              "#d8576b"
             ],
             [
              0.6666666666666666,
              "#ed7953"
             ],
             [
              0.7777777777777778,
              "#fb9f3a"
             ],
             [
              0.8888888888888888,
              "#fdca26"
             ],
             [
              1,
              "#f0f921"
             ]
            ],
            "type": "contour"
           }
          ],
          "contourcarpet": [
           {
            "colorbar": {
             "outlinewidth": 0,
             "ticks": ""
            },
            "type": "contourcarpet"
           }
          ],
          "heatmap": [
           {
            "colorbar": {
             "outlinewidth": 0,
             "ticks": ""
            },
            "colorscale": [
             [
              0,
              "#0d0887"
             ],
             [
              0.1111111111111111,
              "#46039f"
             ],
             [
              0.2222222222222222,
              "#7201a8"
             ],
             [
              0.3333333333333333,
              "#9c179e"
             ],
             [
              0.4444444444444444,
              "#bd3786"
             ],
             [
              0.5555555555555556,
              "#d8576b"
             ],
             [
              0.6666666666666666,
              "#ed7953"
             ],
             [
              0.7777777777777778,
              "#fb9f3a"
             ],
             [
              0.8888888888888888,
              "#fdca26"
             ],
             [
              1,
              "#f0f921"
             ]
            ],
            "type": "heatmap"
           }
          ],
          "heatmapgl": [
           {
            "colorbar": {
             "outlinewidth": 0,
             "ticks": ""
            },
            "colorscale": [
             [
              0,
              "#0d0887"
             ],
             [
              0.1111111111111111,
              "#46039f"
             ],
             [
              0.2222222222222222,
              "#7201a8"
             ],
             [
              0.3333333333333333,
              "#9c179e"
             ],
             [
              0.4444444444444444,
              "#bd3786"
             ],
             [
              0.5555555555555556,
              "#d8576b"
             ],
             [
              0.6666666666666666,
              "#ed7953"
             ],
             [
              0.7777777777777778,
              "#fb9f3a"
             ],
             [
              0.8888888888888888,
              "#fdca26"
             ],
             [
              1,
              "#f0f921"
             ]
            ],
            "type": "heatmapgl"
           }
          ],
          "histogram": [
           {
            "marker": {
             "pattern": {
              "fillmode": "overlay",
              "size": 10,
              "solidity": 0.2
             }
            },
            "type": "histogram"
           }
          ],
          "histogram2d": [
           {
            "colorbar": {
             "outlinewidth": 0,
             "ticks": ""
            },
            "colorscale": [
             [
              0,
              "#0d0887"
             ],
             [
              0.1111111111111111,
              "#46039f"
             ],
             [
              0.2222222222222222,
              "#7201a8"
             ],
             [
              0.3333333333333333,
              "#9c179e"
             ],
             [
              0.4444444444444444,
              "#bd3786"
             ],
             [
              0.5555555555555556,
              "#d8576b"
             ],
             [
              0.6666666666666666,
              "#ed7953"
             ],
             [
              0.7777777777777778,
              "#fb9f3a"
             ],
             [
              0.8888888888888888,
              "#fdca26"
             ],
             [
              1,
              "#f0f921"
             ]
            ],
            "type": "histogram2d"
           }
          ],
          "histogram2dcontour": [
           {
            "colorbar": {
             "outlinewidth": 0,
             "ticks": ""
            },
            "colorscale": [
             [
              0,
              "#0d0887"
             ],
             [
              0.1111111111111111,
              "#46039f"
             ],
             [
              0.2222222222222222,
              "#7201a8"
             ],
             [
              0.3333333333333333,
              "#9c179e"
             ],
             [
              0.4444444444444444,
              "#bd3786"
             ],
             [
              0.5555555555555556,
              "#d8576b"
             ],
             [
              0.6666666666666666,
              "#ed7953"
             ],
             [
              0.7777777777777778,
              "#fb9f3a"
             ],
             [
              0.8888888888888888,
              "#fdca26"
             ],
             [
              1,
              "#f0f921"
             ]
            ],
            "type": "histogram2dcontour"
           }
          ],
          "mesh3d": [
           {
            "colorbar": {
             "outlinewidth": 0,
             "ticks": ""
            },
            "type": "mesh3d"
           }
          ],
          "parcoords": [
           {
            "line": {
             "colorbar": {
              "outlinewidth": 0,
              "ticks": ""
             }
            },
            "type": "parcoords"
           }
          ],
          "pie": [
           {
            "automargin": true,
            "type": "pie"
           }
          ],
          "scatter": [
           {
            "fillpattern": {
             "fillmode": "overlay",
             "size": 10,
             "solidity": 0.2
            },
            "type": "scatter"
           }
          ],
          "scatter3d": [
           {
            "line": {
             "colorbar": {
              "outlinewidth": 0,
              "ticks": ""
             }
            },
            "marker": {
             "colorbar": {
              "outlinewidth": 0,
              "ticks": ""
             }
            },
            "type": "scatter3d"
           }
          ],
          "scattercarpet": [
           {
            "marker": {
             "colorbar": {
              "outlinewidth": 0,
              "ticks": ""
             }
            },
            "type": "scattercarpet"
           }
          ],
          "scattergeo": [
           {
            "marker": {
             "colorbar": {
              "outlinewidth": 0,
              "ticks": ""
             }
            },
            "type": "scattergeo"
           }
          ],
          "scattergl": [
           {
            "marker": {
             "colorbar": {
              "outlinewidth": 0,
              "ticks": ""
             }
            },
            "type": "scattergl"
           }
          ],
          "scattermapbox": [
           {
            "marker": {
             "colorbar": {
              "outlinewidth": 0,
              "ticks": ""
             }
            },
            "type": "scattermapbox"
           }
          ],
          "scatterpolar": [
           {
            "marker": {
             "colorbar": {
              "outlinewidth": 0,
              "ticks": ""
             }
            },
            "type": "scatterpolar"
           }
          ],
          "scatterpolargl": [
           {
            "marker": {
             "colorbar": {
              "outlinewidth": 0,
              "ticks": ""
             }
            },
            "type": "scatterpolargl"
           }
          ],
          "scatterternary": [
           {
            "marker": {
             "colorbar": {
              "outlinewidth": 0,
              "ticks": ""
             }
            },
            "type": "scatterternary"
           }
          ],
          "surface": [
           {
            "colorbar": {
             "outlinewidth": 0,
             "ticks": ""
            },
            "colorscale": [
             [
              0,
              "#0d0887"
             ],
             [
              0.1111111111111111,
              "#46039f"
             ],
             [
              0.2222222222222222,
              "#7201a8"
             ],
             [
              0.3333333333333333,
              "#9c179e"
             ],
             [
              0.4444444444444444,
              "#bd3786"
             ],
             [
              0.5555555555555556,
              "#d8576b"
             ],
             [
              0.6666666666666666,
              "#ed7953"
             ],
             [
              0.7777777777777778,
              "#fb9f3a"
             ],
             [
              0.8888888888888888,
              "#fdca26"
             ],
             [
              1,
              "#f0f921"
             ]
            ],
            "type": "surface"
           }
          ],
          "table": [
           {
            "cells": {
             "fill": {
              "color": "#EBF0F8"
             },
             "line": {
              "color": "white"
             }
            },
            "header": {
             "fill": {
              "color": "#C8D4E3"
             },
             "line": {
              "color": "white"
             }
            },
            "type": "table"
           }
          ]
         },
         "layout": {
          "annotationdefaults": {
           "arrowcolor": "#2a3f5f",
           "arrowhead": 0,
           "arrowwidth": 1
          },
          "autotypenumbers": "strict",
          "coloraxis": {
           "colorbar": {
            "outlinewidth": 0,
            "ticks": ""
           }
          },
          "colorscale": {
           "diverging": [
            [
             0,
             "#8e0152"
            ],
            [
             0.1,
             "#c51b7d"
            ],
            [
             0.2,
             "#de77ae"
            ],
            [
             0.3,
             "#f1b6da"
            ],
            [
             0.4,
             "#fde0ef"
            ],
            [
             0.5,
             "#f7f7f7"
            ],
            [
             0.6,
             "#e6f5d0"
            ],
            [
             0.7,
             "#b8e186"
            ],
            [
             0.8,
             "#7fbc41"
            ],
            [
             0.9,
             "#4d9221"
            ],
            [
             1,
             "#276419"
            ]
           ],
           "sequential": [
            [
             0,
             "#0d0887"
            ],
            [
             0.1111111111111111,
             "#46039f"
            ],
            [
             0.2222222222222222,
             "#7201a8"
            ],
            [
             0.3333333333333333,
             "#9c179e"
            ],
            [
             0.4444444444444444,
             "#bd3786"
            ],
            [
             0.5555555555555556,
             "#d8576b"
            ],
            [
             0.6666666666666666,
             "#ed7953"
            ],
            [
             0.7777777777777778,
             "#fb9f3a"
            ],
            [
             0.8888888888888888,
             "#fdca26"
            ],
            [
             1,
             "#f0f921"
            ]
           ],
           "sequentialminus": [
            [
             0,
             "#0d0887"
            ],
            [
             0.1111111111111111,
             "#46039f"
            ],
            [
             0.2222222222222222,
             "#7201a8"
            ],
            [
             0.3333333333333333,
             "#9c179e"
            ],
            [
             0.4444444444444444,
             "#bd3786"
            ],
            [
             0.5555555555555556,
             "#d8576b"
            ],
            [
             0.6666666666666666,
             "#ed7953"
            ],
            [
             0.7777777777777778,
             "#fb9f3a"
            ],
            [
             0.8888888888888888,
             "#fdca26"
            ],
            [
             1,
             "#f0f921"
            ]
           ]
          },
          "colorway": [
           "#636efa",
           "#EF553B",
           "#00cc96",
           "#ab63fa",
           "#FFA15A",
           "#19d3f3",
           "#FF6692",
           "#B6E880",
           "#FF97FF",
           "#FECB52"
          ],
          "font": {
           "color": "#2a3f5f"
          },
          "geo": {
           "bgcolor": "white",
           "lakecolor": "white",
           "landcolor": "#E5ECF6",
           "showlakes": true,
           "showland": true,
           "subunitcolor": "white"
          },
          "hoverlabel": {
           "align": "left"
          },
          "hovermode": "closest",
          "mapbox": {
           "style": "light"
          },
          "paper_bgcolor": "white",
          "plot_bgcolor": "#E5ECF6",
          "polar": {
           "angularaxis": {
            "gridcolor": "white",
            "linecolor": "white",
            "ticks": ""
           },
           "bgcolor": "#E5ECF6",
           "radialaxis": {
            "gridcolor": "white",
            "linecolor": "white",
            "ticks": ""
           }
          },
          "scene": {
           "xaxis": {
            "backgroundcolor": "#E5ECF6",
            "gridcolor": "white",
            "gridwidth": 2,
            "linecolor": "white",
            "showbackground": true,
            "ticks": "",
            "zerolinecolor": "white"
           },
           "yaxis": {
            "backgroundcolor": "#E5ECF6",
            "gridcolor": "white",
            "gridwidth": 2,
            "linecolor": "white",
            "showbackground": true,
            "ticks": "",
            "zerolinecolor": "white"
           },
           "zaxis": {
            "backgroundcolor": "#E5ECF6",
            "gridcolor": "white",
            "gridwidth": 2,
            "linecolor": "white",
            "showbackground": true,
            "ticks": "",
            "zerolinecolor": "white"
           }
          },
          "shapedefaults": {
           "line": {
            "color": "#2a3f5f"
           }
          },
          "ternary": {
           "aaxis": {
            "gridcolor": "white",
            "linecolor": "white",
            "ticks": ""
           },
           "baxis": {
            "gridcolor": "white",
            "linecolor": "white",
            "ticks": ""
           },
           "bgcolor": "#E5ECF6",
           "caxis": {
            "gridcolor": "white",
            "linecolor": "white",
            "ticks": ""
           }
          },
          "title": {
           "x": 0.05
          },
          "xaxis": {
           "automargin": true,
           "gridcolor": "white",
           "linecolor": "white",
           "ticks": "",
           "title": {
            "standoff": 15
           },
           "zerolinecolor": "white",
           "zerolinewidth": 2
          },
          "yaxis": {
           "automargin": true,
           "gridcolor": "white",
           "linecolor": "white",
           "ticks": "",
           "title": {
            "standoff": 15
           },
           "zerolinecolor": "white",
           "zerolinewidth": 2
          }
         }
        },
        "title": {
         "text": "Timeline Plot"
        },
        "xaxis": {
         "title": {
          "text": "Datetime"
         },
         "type": "date"
        },
        "yaxis": {
         "title": {
          "text": "Trial"
         }
        }
       }
      },
      "text/html": [
       "<div>                        <script type=\"text/javascript\">window.PlotlyConfig = {MathJaxConfig: 'local'};</script>\n",
       "        <script charset=\"utf-8\" src=\"https://cdn.plot.ly/plotly-2.27.0.min.js\"></script>                <div id=\"8f3eeb77-93cb-41b4-aeb5-b8ba9d1d6564\" class=\"plotly-graph-div\" style=\"height:100%; width:100%;\"></div>            <script type=\"text/javascript\">                                    window.PLOTLYENV=window.PLOTLYENV || {};                                    if (document.getElementById(\"8f3eeb77-93cb-41b4-aeb5-b8ba9d1d6564\")) {                    Plotly.newPlot(                        \"8f3eeb77-93cb-41b4-aeb5-b8ba9d1d6564\",                        [{\"base\":[\"2024-01-27T00:18:04.562838\",\"2024-01-27T00:37:24.130040\",\"2024-01-27T00:59:30.289170\",\"2024-01-27T01:17:20.552049\",\"2024-01-27T01:30:58.434043\",\"2024-01-27T01:50:48.479059\",\"2024-01-27T02:11:25.944841\",\"2024-01-27T02:29:41.466138\",\"2024-01-27T02:50:10.986072\",\"2024-01-27T03:06:30.945310\",\"2024-01-27T03:20:42.695234\",\"2024-01-27T03:31:31.896877\",\"2024-01-27T03:45:19.052269\",\"2024-01-27T03:59:32.222684\",\"2024-01-27T04:12:51.792926\",\"2024-01-27T04:23:24.150124\",\"2024-01-27T04:37:33.414420\",\"2024-01-27T04:51:56.594497\",\"2024-01-27T05:02:54.336861\"],\"hovertemplate\":\"%{text}\\u003cextra\\u003eCOMPLETE\\u003c\\u002fextra\\u003e\",\"marker\":{\"color\":\"blue\"},\"name\":\"COMPLETE\",\"orientation\":\"h\",\"text\":[\"{\\u003cbr\\u003e  \\\"number\\\": 0,\\u003cbr\\u003e  \\\"values\\\": [\\u003cbr\\u003e    0.26179999113082886\\u003cbr\\u003e  ],\\u003cbr\\u003e  \\\"params\\\": {\\u003cbr\\u003e    \\\"conv_0_filters\\\": 95,\\u003cbr\\u003e    \\\"conv_0_kernel_size\\\": 5,\\u003cbr\\u003e    \\\"num_conv_layers\\\": 4,\\u003cbr\\u003e    \\\"conv_1_filters\\\": 18,\\u003cbr\\u003e    \\\"conv_1_kernel_size\\\": 3,\\u003cbr\\u003e    \\\"conv_2_filters\\\": 76,\\u003cbr\\u003e    \\\"conv_2_kernel_size\\\": 7,\\u003cbr\\u003e    \\\"conv_3_filters\\\": 17,\\u003cbr\\u003e    \\\"conv_3_kernel_size\\\": 5,\\u003cbr\\u003e    \\\"optimizer\\\": \\\"sgd\\\",\\u003cbr\\u003e    \\\"lr_o\\\": 0.001\\u003cbr\\u003e  }\\u003cbr\\u003e}\",\"{\\u003cbr\\u003e  \\\"number\\\": 1,\\u003cbr\\u003e  \\\"values\\\": [\\u003cbr\\u003e    0.29089999198913574\\u003cbr\\u003e  ],\\u003cbr\\u003e  \\\"params\\\": {\\u003cbr\\u003e    \\\"conv_0_filters\\\": 35,\\u003cbr\\u003e    \\\"conv_0_kernel_size\\\": 3,\\u003cbr\\u003e    \\\"num_conv_layers\\\": 4,\\u003cbr\\u003e    \\\"conv_1_filters\\\": 17,\\u003cbr\\u003e    \\\"conv_1_kernel_size\\\": 7,\\u003cbr\\u003e    \\\"conv_2_filters\\\": 22,\\u003cbr\\u003e    \\\"conv_2_kernel_size\\\": 7,\\u003cbr\\u003e    \\\"conv_3_filters\\\": 79,\\u003cbr\\u003e    \\\"conv_3_kernel_size\\\": 5,\\u003cbr\\u003e    \\\"optimizer\\\": \\\"sgd\\\",\\u003cbr\\u003e    \\\"lr_o\\\": 0.01\\u003cbr\\u003e  }\\u003cbr\\u003e}\",\"{\\u003cbr\\u003e  \\\"number\\\": 2,\\u003cbr\\u003e  \\\"values\\\": [\\u003cbr\\u003e    0.3068999946117401\\u003cbr\\u003e  ],\\u003cbr\\u003e  \\\"params\\\": {\\u003cbr\\u003e    \\\"conv_0_filters\\\": 108,\\u003cbr\\u003e    \\\"conv_0_kernel_size\\\": 3,\\u003cbr\\u003e    \\\"num_conv_layers\\\": 2,\\u003cbr\\u003e    \\\"conv_1_filters\\\": 23,\\u003cbr\\u003e    \\\"conv_1_kernel_size\\\": 3,\\u003cbr\\u003e    \\\"optimizer\\\": \\\"adam\\\",\\u003cbr\\u003e    \\\"lr_o\\\": 0.001\\u003cbr\\u003e  }\\u003cbr\\u003e}\",\"{\\u003cbr\\u003e  \\\"number\\\": 3,\\u003cbr\\u003e  \\\"values\\\": [\\u003cbr\\u003e    0.0982000008225441\\u003cbr\\u003e  ],\\u003cbr\\u003e  \\\"params\\\": {\\u003cbr\\u003e    \\\"conv_0_filters\\\": 35,\\u003cbr\\u003e    \\\"conv_0_kernel_size\\\": 7,\\u003cbr\\u003e    \\\"num_conv_layers\\\": 1,\\u003cbr\\u003e    \\\"optimizer\\\": \\\"sgd\\\",\\u003cbr\\u003e    \\\"lr_o\\\": 0.1\\u003cbr\\u003e  }\\u003cbr\\u003e}\",\"{\\u003cbr\\u003e  \\\"number\\\": 4,\\u003cbr\\u003e  \\\"values\\\": [\\u003cbr\\u003e    0.009999999776482582\\u003cbr\\u003e  ],\\u003cbr\\u003e  \\\"params\\\": {\\u003cbr\\u003e    \\\"conv_0_filters\\\": 60,\\u003cbr\\u003e    \\\"conv_0_kernel_size\\\": 5,\\u003cbr\\u003e    \\\"num_conv_layers\\\": 3,\\u003cbr\\u003e    \\\"conv_1_filters\\\": 27,\\u003cbr\\u003e    \\\"conv_1_kernel_size\\\": 7,\\u003cbr\\u003e    \\\"conv_2_filters\\\": 52,\\u003cbr\\u003e    \\\"conv_2_kernel_size\\\": 3,\\u003cbr\\u003e    \\\"optimizer\\\": \\\"adam\\\",\\u003cbr\\u003e    \\\"lr_o\\\": 0.1\\u003cbr\\u003e  }\\u003cbr\\u003e}\",\"{\\u003cbr\\u003e  \\\"number\\\": 5,\\u003cbr\\u003e  \\\"values\\\": [\\u003cbr\\u003e    0.3077000081539154\\u003cbr\\u003e  ],\\u003cbr\\u003e  \\\"params\\\": {\\u003cbr\\u003e    \\\"conv_0_filters\\\": 47,\\u003cbr\\u003e    \\\"conv_0_kernel_size\\\": 5,\\u003cbr\\u003e    \\\"num_conv_layers\\\": 3,\\u003cbr\\u003e    \\\"conv_1_filters\\\": 100,\\u003cbr\\u003e    \\\"conv_1_kernel_size\\\": 5,\\u003cbr\\u003e    \\\"conv_2_filters\\\": 54,\\u003cbr\\u003e    \\\"conv_2_kernel_size\\\": 5,\\u003cbr\\u003e    \\\"optimizer\\\": \\\"sgd\\\",\\u003cbr\\u003e    \\\"lr_o\\\": 0.001\\u003cbr\\u003e  }\\u003cbr\\u003e}\",\"{\\u003cbr\\u003e  \\\"number\\\": 6,\\u003cbr\\u003e  \\\"values\\\": [\\u003cbr\\u003e    0.2207999974489212\\u003cbr\\u003e  ],\\u003cbr\\u003e  \\\"params\\\": {\\u003cbr\\u003e    \\\"conv_0_filters\\\": 36,\\u003cbr\\u003e    \\\"conv_0_kernel_size\\\": 7,\\u003cbr\\u003e    \\\"num_conv_layers\\\": 3,\\u003cbr\\u003e    \\\"conv_1_filters\\\": 71,\\u003cbr\\u003e    \\\"conv_1_kernel_size\\\": 5,\\u003cbr\\u003e    \\\"conv_2_filters\\\": 30,\\u003cbr\\u003e    \\\"conv_2_kernel_size\\\": 7,\\u003cbr\\u003e    \\\"optimizer\\\": \\\"adam\\\",\\u003cbr\\u003e    \\\"lr_o\\\": 0.01\\u003cbr\\u003e  }\\u003cbr\\u003e}\",\"{\\u003cbr\\u003e  \\\"number\\\": 7,\\u003cbr\\u003e  \\\"values\\\": [\\u003cbr\\u003e    0.2858999967575073\\u003cbr\\u003e  ],\\u003cbr\\u003e  \\\"params\\\": {\\u003cbr\\u003e    \\\"conv_0_filters\\\": 62,\\u003cbr\\u003e    \\\"conv_0_kernel_size\\\": 3,\\u003cbr\\u003e    \\\"num_conv_layers\\\": 4,\\u003cbr\\u003e    \\\"conv_1_filters\\\": 112,\\u003cbr\\u003e    \\\"conv_1_kernel_size\\\": 3,\\u003cbr\\u003e    \\\"conv_2_filters\\\": 25,\\u003cbr\\u003e    \\\"conv_2_kernel_size\\\": 5,\\u003cbr\\u003e    \\\"conv_3_filters\\\": 17,\\u003cbr\\u003e    \\\"conv_3_kernel_size\\\": 3,\\u003cbr\\u003e    \\\"optimizer\\\": \\\"adam\\\",\\u003cbr\\u003e    \\\"lr_o\\\": 0.001\\u003cbr\\u003e  }\\u003cbr\\u003e}\",\"{\\u003cbr\\u003e  \\\"number\\\": 8,\\u003cbr\\u003e  \\\"values\\\": [\\u003cbr\\u003e    0.00989999994635582\\u003cbr\\u003e  ],\\u003cbr\\u003e  \\\"params\\\": {\\u003cbr\\u003e    \\\"conv_0_filters\\\": 54,\\u003cbr\\u003e    \\\"conv_0_kernel_size\\\": 7,\\u003cbr\\u003e    \\\"num_conv_layers\\\": 3,\\u003cbr\\u003e    \\\"conv_1_filters\\\": 20,\\u003cbr\\u003e    \\\"conv_1_kernel_size\\\": 5,\\u003cbr\\u003e    \\\"conv_2_filters\\\": 121,\\u003cbr\\u003e    \\\"conv_2_kernel_size\\\": 5,\\u003cbr\\u003e    \\\"optimizer\\\": \\\"adam\\\",\\u003cbr\\u003e    \\\"lr_o\\\": 0.1\\u003cbr\\u003e  }\\u003cbr\\u003e}\",\"{\\u003cbr\\u003e  \\\"number\\\": 9,\\u003cbr\\u003e  \\\"values\\\": [\\u003cbr\\u003e    0.34439998865127563\\u003cbr\\u003e  ],\\u003cbr\\u003e  \\\"params\\\": {\\u003cbr\\u003e    \\\"conv_0_filters\\\": 69,\\u003cbr\\u003e    \\\"conv_0_kernel_size\\\": 3,\\u003cbr\\u003e    \\\"num_conv_layers\\\": 2,\\u003cbr\\u003e    \\\"conv_1_filters\\\": 51,\\u003cbr\\u003e    \\\"conv_1_kernel_size\\\": 7,\\u003cbr\\u003e    \\\"optimizer\\\": \\\"sgd\\\",\\u003cbr\\u003e    \\\"lr_o\\\": 0.001\\u003cbr\\u003e  }\\u003cbr\\u003e}\",\"{\\u003cbr\\u003e  \\\"number\\\": 10,\\u003cbr\\u003e  \\\"values\\\": [\\u003cbr\\u003e    0.28209999203681946\\u003cbr\\u003e  ],\\u003cbr\\u003e  \\\"params\\\": {\\u003cbr\\u003e    \\\"conv_0_filters\\\": 17,\\u003cbr\\u003e    \\\"conv_0_kernel_size\\\": 3,\\u003cbr\\u003e    \\\"num_conv_layers\\\": 1,\\u003cbr\\u003e    \\\"optimizer\\\": \\\"sgd\\\",\\u003cbr\\u003e    \\\"lr_o\\\": 0.001\\u003cbr\\u003e  }\\u003cbr\\u003e}\",\"{\\u003cbr\\u003e  \\\"number\\\": 11,\\u003cbr\\u003e  \\\"values\\\": [\\u003cbr\\u003e    0.3546000123023987\\u003cbr\\u003e  ],\\u003cbr\\u003e  \\\"params\\\": {\\u003cbr\\u003e    \\\"conv_0_filters\\\": 79,\\u003cbr\\u003e    \\\"conv_0_kernel_size\\\": 5,\\u003cbr\\u003e    \\\"num_conv_layers\\\": 2,\\u003cbr\\u003e    \\\"conv_1_filters\\\": 50,\\u003cbr\\u003e    \\\"conv_1_kernel_size\\\": 5,\\u003cbr\\u003e    \\\"optimizer\\\": \\\"sgd\\\",\\u003cbr\\u003e    \\\"lr_o\\\": 0.001\\u003cbr\\u003e  }\\u003cbr\\u003e}\",\"{\\u003cbr\\u003e  \\\"number\\\": 12,\\u003cbr\\u003e  \\\"values\\\": [\\u003cbr\\u003e    0.3271999955177307\\u003cbr\\u003e  ],\\u003cbr\\u003e  \\\"params\\\": {\\u003cbr\\u003e    \\\"conv_0_filters\\\": 84,\\u003cbr\\u003e    \\\"conv_0_kernel_size\\\": 5,\\u003cbr\\u003e    \\\"num_conv_layers\\\": 2,\\u003cbr\\u003e    \\\"conv_1_filters\\\": 44,\\u003cbr\\u003e    \\\"conv_1_kernel_size\\\": 7,\\u003cbr\\u003e    \\\"optimizer\\\": \\\"sgd\\\",\\u003cbr\\u003e    \\\"lr_o\\\": 0.001\\u003cbr\\u003e  }\\u003cbr\\u003e}\",\"{\\u003cbr\\u003e  \\\"number\\\": 13,\\u003cbr\\u003e  \\\"values\\\": [\\u003cbr\\u003e    0.36500000953674316\\u003cbr\\u003e  ],\\u003cbr\\u003e  \\\"params\\\": {\\u003cbr\\u003e    \\\"conv_0_filters\\\": 76,\\u003cbr\\u003e    \\\"conv_0_kernel_size\\\": 3,\\u003cbr\\u003e    \\\"num_conv_layers\\\": 2,\\u003cbr\\u003e    \\\"conv_1_filters\\\": 47,\\u003cbr\\u003e    \\\"conv_1_kernel_size\\\": 5,\\u003cbr\\u003e    \\\"optimizer\\\": \\\"sgd\\\",\\u003cbr\\u003e    \\\"lr_o\\\": 0.001\\u003cbr\\u003e  }\\u003cbr\\u003e}\",\"{\\u003cbr\\u003e  \\\"number\\\": 14,\\u003cbr\\u003e  \\\"values\\\": [\\u003cbr\\u003e    0.2994000017642975\\u003cbr\\u003e  ],\\u003cbr\\u003e  \\\"params\\\": {\\u003cbr\\u003e    \\\"conv_0_filters\\\": 123,\\u003cbr\\u003e    \\\"conv_0_kernel_size\\\": 5,\\u003cbr\\u003e    \\\"num_conv_layers\\\": 1,\\u003cbr\\u003e    \\\"optimizer\\\": \\\"sgd\\\",\\u003cbr\\u003e    \\\"lr_o\\\": 0.001\\u003cbr\\u003e  }\\u003cbr\\u003e}\",\"{\\u003cbr\\u003e  \\\"number\\\": 15,\\u003cbr\\u003e  \\\"values\\\": [\\u003cbr\\u003e    0.3343000113964081\\u003cbr\\u003e  ],\\u003cbr\\u003e  \\\"params\\\": {\\u003cbr\\u003e    \\\"conv_0_filters\\\": 79,\\u003cbr\\u003e    \\\"conv_0_kernel_size\\\": 3,\\u003cbr\\u003e    \\\"num_conv_layers\\\": 2,\\u003cbr\\u003e    \\\"conv_1_filters\\\": 37,\\u003cbr\\u003e    \\\"conv_1_kernel_size\\\": 5,\\u003cbr\\u003e    \\\"optimizer\\\": \\\"sgd\\\",\\u003cbr\\u003e    \\\"lr_o\\\": 0.01\\u003cbr\\u003e  }\\u003cbr\\u003e}\",\"{\\u003cbr\\u003e  \\\"number\\\": 16,\\u003cbr\\u003e  \\\"values\\\": [\\u003cbr\\u003e    0.34279999136924744\\u003cbr\\u003e  ],\\u003cbr\\u003e  \\\"params\\\": {\\u003cbr\\u003e    \\\"conv_0_filters\\\": 24,\\u003cbr\\u003e    \\\"conv_0_kernel_size\\\": 5,\\u003cbr\\u003e    \\\"num_conv_layers\\\": 2,\\u003cbr\\u003e    \\\"conv_1_filters\\\": 63,\\u003cbr\\u003e    \\\"conv_1_kernel_size\\\": 5,\\u003cbr\\u003e    \\\"optimizer\\\": \\\"sgd\\\",\\u003cbr\\u003e    \\\"lr_o\\\": 0.001\\u003cbr\\u003e  }\\u003cbr\\u003e}\",\"{\\u003cbr\\u003e  \\\"number\\\": 17,\\u003cbr\\u003e  \\\"values\\\": [\\u003cbr\\u003e    0.29899999499320984\\u003cbr\\u003e  ],\\u003cbr\\u003e  \\\"params\\\": {\\u003cbr\\u003e    \\\"conv_0_filters\\\": 79,\\u003cbr\\u003e    \\\"conv_0_kernel_size\\\": 5,\\u003cbr\\u003e    \\\"num_conv_layers\\\": 1,\\u003cbr\\u003e    \\\"optimizer\\\": \\\"sgd\\\",\\u003cbr\\u003e    \\\"lr_o\\\": 0.001\\u003cbr\\u003e  }\\u003cbr\\u003e}\",\"{\\u003cbr\\u003e  \\\"number\\\": 18,\\u003cbr\\u003e  \\\"values\\\": [\\u003cbr\\u003e    0.2842999994754791\\u003cbr\\u003e  ],\\u003cbr\\u003e  \\\"params\\\": {\\u003cbr\\u003e    \\\"conv_0_filters\\\": 46,\\u003cbr\\u003e    \\\"conv_0_kernel_size\\\": 3,\\u003cbr\\u003e    \\\"num_conv_layers\\\": 2,\\u003cbr\\u003e    \\\"conv_1_filters\\\": 33,\\u003cbr\\u003e    \\\"conv_1_kernel_size\\\": 5,\\u003cbr\\u003e    \\\"optimizer\\\": \\\"sgd\\\",\\u003cbr\\u003e    \\\"lr_o\\\": 0.1\\u003cbr\\u003e  }\\u003cbr\\u003e}\"],\"textposition\":\"none\",\"x\":[1159385.1030000001,1325193.9500000002,1069756.291,816605.548,1189401.4870000002,1236774.981,1092350.37,1229095.152,979496.575,851588.451,649085.542,826755.683,852798.9569999999,799158.7540000001,632258.01,848886.3239999999,862789.107,657348.353,844198.942],\"y\":[0,1,2,3,4,5,6,7,8,9,10,11,12,13,14,15,16,17,18],\"type\":\"bar\"},{\"base\":[\"2024-01-27T05:16:58.657485\"],\"hovertemplate\":\"%{text}\\u003cextra\\u003eRUNNING\\u003c\\u002fextra\\u003e\",\"marker\":{\"color\":\"green\"},\"name\":\"RUNNING\",\"orientation\":\"h\",\"text\":[\"{\\u003cbr\\u003e  \\\"number\\\": 19,\\u003cbr\\u003e  \\\"values\\\": null,\\u003cbr\\u003e  \\\"params\\\": {\\u003cbr\\u003e    \\\"conv_0_filters\\\": 126,\\u003cbr\\u003e    \\\"conv_0_kernel_size\\\": 7,\\u003cbr\\u003e    \\\"num_conv_layers\\\": 3,\\u003cbr\\u003e    \\\"conv_1_filters\\\": 74,\\u003cbr\\u003e    \\\"conv_1_kernel_size\\\": 5,\\u003cbr\\u003e    \\\"conv_2_filters\\\": 16,\\u003cbr\\u003e    \\\"conv_2_kernel_size\\\": 3,\\u003cbr\\u003e    \\\"optimizer\\\": \\\"sgd\\\",\\u003cbr\\u003e    \\\"lr_o\\\": 0.01\\u003cbr\\u003e  }\\u003cbr\\u003e}\"],\"textposition\":\"none\",\"x\":[11871826.329],\"y\":[19],\"type\":\"bar\"}],                        {\"template\":{\"data\":{\"histogram2dcontour\":[{\"type\":\"histogram2dcontour\",\"colorbar\":{\"outlinewidth\":0,\"ticks\":\"\"},\"colorscale\":[[0.0,\"#0d0887\"],[0.1111111111111111,\"#46039f\"],[0.2222222222222222,\"#7201a8\"],[0.3333333333333333,\"#9c179e\"],[0.4444444444444444,\"#bd3786\"],[0.5555555555555556,\"#d8576b\"],[0.6666666666666666,\"#ed7953\"],[0.7777777777777778,\"#fb9f3a\"],[0.8888888888888888,\"#fdca26\"],[1.0,\"#f0f921\"]]}],\"choropleth\":[{\"type\":\"choropleth\",\"colorbar\":{\"outlinewidth\":0,\"ticks\":\"\"}}],\"histogram2d\":[{\"type\":\"histogram2d\",\"colorbar\":{\"outlinewidth\":0,\"ticks\":\"\"},\"colorscale\":[[0.0,\"#0d0887\"],[0.1111111111111111,\"#46039f\"],[0.2222222222222222,\"#7201a8\"],[0.3333333333333333,\"#9c179e\"],[0.4444444444444444,\"#bd3786\"],[0.5555555555555556,\"#d8576b\"],[0.6666666666666666,\"#ed7953\"],[0.7777777777777778,\"#fb9f3a\"],[0.8888888888888888,\"#fdca26\"],[1.0,\"#f0f921\"]]}],\"heatmap\":[{\"type\":\"heatmap\",\"colorbar\":{\"outlinewidth\":0,\"ticks\":\"\"},\"colorscale\":[[0.0,\"#0d0887\"],[0.1111111111111111,\"#46039f\"],[0.2222222222222222,\"#7201a8\"],[0.3333333333333333,\"#9c179e\"],[0.4444444444444444,\"#bd3786\"],[0.5555555555555556,\"#d8576b\"],[0.6666666666666666,\"#ed7953\"],[0.7777777777777778,\"#fb9f3a\"],[0.8888888888888888,\"#fdca26\"],[1.0,\"#f0f921\"]]}],\"heatmapgl\":[{\"type\":\"heatmapgl\",\"colorbar\":{\"outlinewidth\":0,\"ticks\":\"\"},\"colorscale\":[[0.0,\"#0d0887\"],[0.1111111111111111,\"#46039f\"],[0.2222222222222222,\"#7201a8\"],[0.3333333333333333,\"#9c179e\"],[0.4444444444444444,\"#bd3786\"],[0.5555555555555556,\"#d8576b\"],[0.6666666666666666,\"#ed7953\"],[0.7777777777777778,\"#fb9f3a\"],[0.8888888888888888,\"#fdca26\"],[1.0,\"#f0f921\"]]}],\"contourcarpet\":[{\"type\":\"contourcarpet\",\"colorbar\":{\"outlinewidth\":0,\"ticks\":\"\"}}],\"contour\":[{\"type\":\"contour\",\"colorbar\":{\"outlinewidth\":0,\"ticks\":\"\"},\"colorscale\":[[0.0,\"#0d0887\"],[0.1111111111111111,\"#46039f\"],[0.2222222222222222,\"#7201a8\"],[0.3333333333333333,\"#9c179e\"],[0.4444444444444444,\"#bd3786\"],[0.5555555555555556,\"#d8576b\"],[0.6666666666666666,\"#ed7953\"],[0.7777777777777778,\"#fb9f3a\"],[0.8888888888888888,\"#fdca26\"],[1.0,\"#f0f921\"]]}],\"surface\":[{\"type\":\"surface\",\"colorbar\":{\"outlinewidth\":0,\"ticks\":\"\"},\"colorscale\":[[0.0,\"#0d0887\"],[0.1111111111111111,\"#46039f\"],[0.2222222222222222,\"#7201a8\"],[0.3333333333333333,\"#9c179e\"],[0.4444444444444444,\"#bd3786\"],[0.5555555555555556,\"#d8576b\"],[0.6666666666666666,\"#ed7953\"],[0.7777777777777778,\"#fb9f3a\"],[0.8888888888888888,\"#fdca26\"],[1.0,\"#f0f921\"]]}],\"mesh3d\":[{\"type\":\"mesh3d\",\"colorbar\":{\"outlinewidth\":0,\"ticks\":\"\"}}],\"scatter\":[{\"fillpattern\":{\"fillmode\":\"overlay\",\"size\":10,\"solidity\":0.2},\"type\":\"scatter\"}],\"parcoords\":[{\"type\":\"parcoords\",\"line\":{\"colorbar\":{\"outlinewidth\":0,\"ticks\":\"\"}}}],\"scatterpolargl\":[{\"type\":\"scatterpolargl\",\"marker\":{\"colorbar\":{\"outlinewidth\":0,\"ticks\":\"\"}}}],\"bar\":[{\"error_x\":{\"color\":\"#2a3f5f\"},\"error_y\":{\"color\":\"#2a3f5f\"},\"marker\":{\"line\":{\"color\":\"#E5ECF6\",\"width\":0.5},\"pattern\":{\"fillmode\":\"overlay\",\"size\":10,\"solidity\":0.2}},\"type\":\"bar\"}],\"scattergeo\":[{\"type\":\"scattergeo\",\"marker\":{\"colorbar\":{\"outlinewidth\":0,\"ticks\":\"\"}}}],\"scatterpolar\":[{\"type\":\"scatterpolar\",\"marker\":{\"colorbar\":{\"outlinewidth\":0,\"ticks\":\"\"}}}],\"histogram\":[{\"marker\":{\"pattern\":{\"fillmode\":\"overlay\",\"size\":10,\"solidity\":0.2}},\"type\":\"histogram\"}],\"scattergl\":[{\"type\":\"scattergl\",\"marker\":{\"colorbar\":{\"outlinewidth\":0,\"ticks\":\"\"}}}],\"scatter3d\":[{\"type\":\"scatter3d\",\"line\":{\"colorbar\":{\"outlinewidth\":0,\"ticks\":\"\"}},\"marker\":{\"colorbar\":{\"outlinewidth\":0,\"ticks\":\"\"}}}],\"scattermapbox\":[{\"type\":\"scattermapbox\",\"marker\":{\"colorbar\":{\"outlinewidth\":0,\"ticks\":\"\"}}}],\"scatterternary\":[{\"type\":\"scatterternary\",\"marker\":{\"colorbar\":{\"outlinewidth\":0,\"ticks\":\"\"}}}],\"scattercarpet\":[{\"type\":\"scattercarpet\",\"marker\":{\"colorbar\":{\"outlinewidth\":0,\"ticks\":\"\"}}}],\"carpet\":[{\"aaxis\":{\"endlinecolor\":\"#2a3f5f\",\"gridcolor\":\"white\",\"linecolor\":\"white\",\"minorgridcolor\":\"white\",\"startlinecolor\":\"#2a3f5f\"},\"baxis\":{\"endlinecolor\":\"#2a3f5f\",\"gridcolor\":\"white\",\"linecolor\":\"white\",\"minorgridcolor\":\"white\",\"startlinecolor\":\"#2a3f5f\"},\"type\":\"carpet\"}],\"table\":[{\"cells\":{\"fill\":{\"color\":\"#EBF0F8\"},\"line\":{\"color\":\"white\"}},\"header\":{\"fill\":{\"color\":\"#C8D4E3\"},\"line\":{\"color\":\"white\"}},\"type\":\"table\"}],\"barpolar\":[{\"marker\":{\"line\":{\"color\":\"#E5ECF6\",\"width\":0.5},\"pattern\":{\"fillmode\":\"overlay\",\"size\":10,\"solidity\":0.2}},\"type\":\"barpolar\"}],\"pie\":[{\"automargin\":true,\"type\":\"pie\"}]},\"layout\":{\"autotypenumbers\":\"strict\",\"colorway\":[\"#636efa\",\"#EF553B\",\"#00cc96\",\"#ab63fa\",\"#FFA15A\",\"#19d3f3\",\"#FF6692\",\"#B6E880\",\"#FF97FF\",\"#FECB52\"],\"font\":{\"color\":\"#2a3f5f\"},\"hovermode\":\"closest\",\"hoverlabel\":{\"align\":\"left\"},\"paper_bgcolor\":\"white\",\"plot_bgcolor\":\"#E5ECF6\",\"polar\":{\"bgcolor\":\"#E5ECF6\",\"angularaxis\":{\"gridcolor\":\"white\",\"linecolor\":\"white\",\"ticks\":\"\"},\"radialaxis\":{\"gridcolor\":\"white\",\"linecolor\":\"white\",\"ticks\":\"\"}},\"ternary\":{\"bgcolor\":\"#E5ECF6\",\"aaxis\":{\"gridcolor\":\"white\",\"linecolor\":\"white\",\"ticks\":\"\"},\"baxis\":{\"gridcolor\":\"white\",\"linecolor\":\"white\",\"ticks\":\"\"},\"caxis\":{\"gridcolor\":\"white\",\"linecolor\":\"white\",\"ticks\":\"\"}},\"coloraxis\":{\"colorbar\":{\"outlinewidth\":0,\"ticks\":\"\"}},\"colorscale\":{\"sequential\":[[0.0,\"#0d0887\"],[0.1111111111111111,\"#46039f\"],[0.2222222222222222,\"#7201a8\"],[0.3333333333333333,\"#9c179e\"],[0.4444444444444444,\"#bd3786\"],[0.5555555555555556,\"#d8576b\"],[0.6666666666666666,\"#ed7953\"],[0.7777777777777778,\"#fb9f3a\"],[0.8888888888888888,\"#fdca26\"],[1.0,\"#f0f921\"]],\"sequentialminus\":[[0.0,\"#0d0887\"],[0.1111111111111111,\"#46039f\"],[0.2222222222222222,\"#7201a8\"],[0.3333333333333333,\"#9c179e\"],[0.4444444444444444,\"#bd3786\"],[0.5555555555555556,\"#d8576b\"],[0.6666666666666666,\"#ed7953\"],[0.7777777777777778,\"#fb9f3a\"],[0.8888888888888888,\"#fdca26\"],[1.0,\"#f0f921\"]],\"diverging\":[[0,\"#8e0152\"],[0.1,\"#c51b7d\"],[0.2,\"#de77ae\"],[0.3,\"#f1b6da\"],[0.4,\"#fde0ef\"],[0.5,\"#f7f7f7\"],[0.6,\"#e6f5d0\"],[0.7,\"#b8e186\"],[0.8,\"#7fbc41\"],[0.9,\"#4d9221\"],[1,\"#276419\"]]},\"xaxis\":{\"gridcolor\":\"white\",\"linecolor\":\"white\",\"ticks\":\"\",\"title\":{\"standoff\":15},\"zerolinecolor\":\"white\",\"automargin\":true,\"zerolinewidth\":2},\"yaxis\":{\"gridcolor\":\"white\",\"linecolor\":\"white\",\"ticks\":\"\",\"title\":{\"standoff\":15},\"zerolinecolor\":\"white\",\"automargin\":true,\"zerolinewidth\":2},\"scene\":{\"xaxis\":{\"backgroundcolor\":\"#E5ECF6\",\"gridcolor\":\"white\",\"linecolor\":\"white\",\"showbackground\":true,\"ticks\":\"\",\"zerolinecolor\":\"white\",\"gridwidth\":2},\"yaxis\":{\"backgroundcolor\":\"#E5ECF6\",\"gridcolor\":\"white\",\"linecolor\":\"white\",\"showbackground\":true,\"ticks\":\"\",\"zerolinecolor\":\"white\",\"gridwidth\":2},\"zaxis\":{\"backgroundcolor\":\"#E5ECF6\",\"gridcolor\":\"white\",\"linecolor\":\"white\",\"showbackground\":true,\"ticks\":\"\",\"zerolinecolor\":\"white\",\"gridwidth\":2}},\"shapedefaults\":{\"line\":{\"color\":\"#2a3f5f\"}},\"annotationdefaults\":{\"arrowcolor\":\"#2a3f5f\",\"arrowhead\":0,\"arrowwidth\":1},\"geo\":{\"bgcolor\":\"white\",\"landcolor\":\"#E5ECF6\",\"subunitcolor\":\"white\",\"showland\":true,\"showlakes\":true,\"lakecolor\":\"white\"},\"title\":{\"x\":0.05},\"mapbox\":{\"style\":\"light\"}}},\"xaxis\":{\"type\":\"date\",\"title\":{\"text\":\"Datetime\"}},\"title\":{\"text\":\"Timeline Plot\"},\"yaxis\":{\"title\":{\"text\":\"Trial\"}},\"showlegend\":true},                        {\"responsive\": true}                    )                };                            </script>        </div>"
      ],
      "text/plain": [
       "Figure({\n",
       "    'data': [{'base': [2024-01-27T00:18:04.562838, 2024-01-27T00:37:24.130040,\n",
       "                       2024-01-27T00:59:30.289170, 2024-01-27T01:17:20.552049,\n",
       "                       2024-01-27T01:30:58.434043, 2024-01-27T01:50:48.479059,\n",
       "                       2024-01-27T02:11:25.944841, 2024-01-27T02:29:41.466138,\n",
       "                       2024-01-27T02:50:10.986072, 2024-01-27T03:06:30.945310,\n",
       "                       2024-01-27T03:20:42.695234, 2024-01-27T03:31:31.896877,\n",
       "                       2024-01-27T03:45:19.052269, 2024-01-27T03:59:32.222684,\n",
       "                       2024-01-27T04:12:51.792926, 2024-01-27T04:23:24.150124,\n",
       "                       2024-01-27T04:37:33.414420, 2024-01-27T04:51:56.594497,\n",
       "                       2024-01-27T05:02:54.336861],\n",
       "              'hovertemplate': '%{text}<extra>COMPLETE</extra>',\n",
       "              'marker': {'color': 'blue'},\n",
       "              'name': 'COMPLETE',\n",
       "              'orientation': 'h',\n",
       "              'text': [{<br>  \"number\": 0,<br>  \"values\": [<br>\n",
       "                       0.26179999113082886<br>  ],<br>  \"params\": {<br>\n",
       "                       \"conv_0_filters\": 95,<br>    \"conv_0_kernel_size\": 5,<br>\n",
       "                       \"num_conv_layers\": 4,<br>    \"conv_1_filters\": 18,<br>\n",
       "                       \"conv_1_kernel_size\": 3,<br>    \"conv_2_filters\": 76,<br>\n",
       "                       \"conv_2_kernel_size\": 7,<br>    \"conv_3_filters\": 17,<br>\n",
       "                       \"conv_3_kernel_size\": 5,<br>    \"optimizer\": \"sgd\",<br>\n",
       "                       \"lr_o\": 0.001<br>  }<br>}, {<br>  \"number\": 1,<br>\n",
       "                       \"values\": [<br>    0.29089999198913574<br>  ],<br>\n",
       "                       \"params\": {<br>    \"conv_0_filters\": 35,<br>\n",
       "                       \"conv_0_kernel_size\": 3,<br>    \"num_conv_layers\": 4,<br>\n",
       "                       \"conv_1_filters\": 17,<br>    \"conv_1_kernel_size\": 7,<br>\n",
       "                       \"conv_2_filters\": 22,<br>    \"conv_2_kernel_size\": 7,<br>\n",
       "                       \"conv_3_filters\": 79,<br>    \"conv_3_kernel_size\": 5,<br>\n",
       "                       \"optimizer\": \"sgd\",<br>    \"lr_o\": 0.01<br>  }<br>}, {<br>\n",
       "                       \"number\": 2,<br>  \"values\": [<br>    0.3068999946117401<br>\n",
       "                       ],<br>  \"params\": {<br>    \"conv_0_filters\": 108,<br>\n",
       "                       \"conv_0_kernel_size\": 3,<br>    \"num_conv_layers\": 2,<br>\n",
       "                       \"conv_1_filters\": 23,<br>    \"conv_1_kernel_size\": 3,<br>\n",
       "                       \"optimizer\": \"adam\",<br>    \"lr_o\": 0.001<br>  }<br>}, {<br>\n",
       "                       \"number\": 3,<br>  \"values\": [<br>    0.0982000008225441<br>\n",
       "                       ],<br>  \"params\": {<br>    \"conv_0_filters\": 35,<br>\n",
       "                       \"conv_0_kernel_size\": 7,<br>    \"num_conv_layers\": 1,<br>\n",
       "                       \"optimizer\": \"sgd\",<br>    \"lr_o\": 0.1<br>  }<br>}, {<br>\n",
       "                       \"number\": 4,<br>  \"values\": [<br>\n",
       "                       0.009999999776482582<br>  ],<br>  \"params\": {<br>\n",
       "                       \"conv_0_filters\": 60,<br>    \"conv_0_kernel_size\": 5,<br>\n",
       "                       \"num_conv_layers\": 3,<br>    \"conv_1_filters\": 27,<br>\n",
       "                       \"conv_1_kernel_size\": 7,<br>    \"conv_2_filters\": 52,<br>\n",
       "                       \"conv_2_kernel_size\": 3,<br>    \"optimizer\": \"adam\",<br>\n",
       "                       \"lr_o\": 0.1<br>  }<br>}, {<br>  \"number\": 5,<br>  \"values\":\n",
       "                       [<br>    0.3077000081539154<br>  ],<br>  \"params\": {<br>\n",
       "                       \"conv_0_filters\": 47,<br>    \"conv_0_kernel_size\": 5,<br>\n",
       "                       \"num_conv_layers\": 3,<br>    \"conv_1_filters\": 100,<br>\n",
       "                       \"conv_1_kernel_size\": 5,<br>    \"conv_2_filters\": 54,<br>\n",
       "                       \"conv_2_kernel_size\": 5,<br>    \"optimizer\": \"sgd\",<br>\n",
       "                       \"lr_o\": 0.001<br>  }<br>}, {<br>  \"number\": 6,<br>\n",
       "                       \"values\": [<br>    0.2207999974489212<br>  ],<br>  \"params\":\n",
       "                       {<br>    \"conv_0_filters\": 36,<br>    \"conv_0_kernel_size\":\n",
       "                       7,<br>    \"num_conv_layers\": 3,<br>    \"conv_1_filters\":\n",
       "                       71,<br>    \"conv_1_kernel_size\": 5,<br>    \"conv_2_filters\":\n",
       "                       30,<br>    \"conv_2_kernel_size\": 7,<br>    \"optimizer\":\n",
       "                       \"adam\",<br>    \"lr_o\": 0.01<br>  }<br>}, {<br>  \"number\":\n",
       "                       7,<br>  \"values\": [<br>    0.2858999967575073<br>  ],<br>\n",
       "                       \"params\": {<br>    \"conv_0_filters\": 62,<br>\n",
       "                       \"conv_0_kernel_size\": 3,<br>    \"num_conv_layers\": 4,<br>\n",
       "                       \"conv_1_filters\": 112,<br>    \"conv_1_kernel_size\": 3,<br>\n",
       "                       \"conv_2_filters\": 25,<br>    \"conv_2_kernel_size\": 5,<br>\n",
       "                       \"conv_3_filters\": 17,<br>    \"conv_3_kernel_size\": 3,<br>\n",
       "                       \"optimizer\": \"adam\",<br>    \"lr_o\": 0.001<br>  }<br>}, {<br>\n",
       "                       \"number\": 8,<br>  \"values\": [<br>    0.00989999994635582<br>\n",
       "                       ],<br>  \"params\": {<br>    \"conv_0_filters\": 54,<br>\n",
       "                       \"conv_0_kernel_size\": 7,<br>    \"num_conv_layers\": 3,<br>\n",
       "                       \"conv_1_filters\": 20,<br>    \"conv_1_kernel_size\": 5,<br>\n",
       "                       \"conv_2_filters\": 121,<br>    \"conv_2_kernel_size\": 5,<br>\n",
       "                       \"optimizer\": \"adam\",<br>    \"lr_o\": 0.1<br>  }<br>}, {<br>\n",
       "                       \"number\": 9,<br>  \"values\": [<br>    0.34439998865127563<br>\n",
       "                       ],<br>  \"params\": {<br>    \"conv_0_filters\": 69,<br>\n",
       "                       \"conv_0_kernel_size\": 3,<br>    \"num_conv_layers\": 2,<br>\n",
       "                       \"conv_1_filters\": 51,<br>    \"conv_1_kernel_size\": 7,<br>\n",
       "                       \"optimizer\": \"sgd\",<br>    \"lr_o\": 0.001<br>  }<br>}, {<br>\n",
       "                       \"number\": 10,<br>  \"values\": [<br>\n",
       "                       0.28209999203681946<br>  ],<br>  \"params\": {<br>\n",
       "                       \"conv_0_filters\": 17,<br>    \"conv_0_kernel_size\": 3,<br>\n",
       "                       \"num_conv_layers\": 1,<br>    \"optimizer\": \"sgd\",<br>\n",
       "                       \"lr_o\": 0.001<br>  }<br>}, {<br>  \"number\": 11,<br>\n",
       "                       \"values\": [<br>    0.3546000123023987<br>  ],<br>  \"params\":\n",
       "                       {<br>    \"conv_0_filters\": 79,<br>    \"conv_0_kernel_size\":\n",
       "                       5,<br>    \"num_conv_layers\": 2,<br>    \"conv_1_filters\":\n",
       "                       50,<br>    \"conv_1_kernel_size\": 5,<br>    \"optimizer\":\n",
       "                       \"sgd\",<br>    \"lr_o\": 0.001<br>  }<br>}, {<br>  \"number\":\n",
       "                       12,<br>  \"values\": [<br>    0.3271999955177307<br>  ],<br>\n",
       "                       \"params\": {<br>    \"conv_0_filters\": 84,<br>\n",
       "                       \"conv_0_kernel_size\": 5,<br>    \"num_conv_layers\": 2,<br>\n",
       "                       \"conv_1_filters\": 44,<br>    \"conv_1_kernel_size\": 7,<br>\n",
       "                       \"optimizer\": \"sgd\",<br>    \"lr_o\": 0.001<br>  }<br>}, {<br>\n",
       "                       \"number\": 13,<br>  \"values\": [<br>\n",
       "                       0.36500000953674316<br>  ],<br>  \"params\": {<br>\n",
       "                       \"conv_0_filters\": 76,<br>    \"conv_0_kernel_size\": 3,<br>\n",
       "                       \"num_conv_layers\": 2,<br>    \"conv_1_filters\": 47,<br>\n",
       "                       \"conv_1_kernel_size\": 5,<br>    \"optimizer\": \"sgd\",<br>\n",
       "                       \"lr_o\": 0.001<br>  }<br>}, {<br>  \"number\": 14,<br>\n",
       "                       \"values\": [<br>    0.2994000017642975<br>  ],<br>  \"params\":\n",
       "                       {<br>    \"conv_0_filters\": 123,<br>    \"conv_0_kernel_size\":\n",
       "                       5,<br>    \"num_conv_layers\": 1,<br>    \"optimizer\":\n",
       "                       \"sgd\",<br>    \"lr_o\": 0.001<br>  }<br>}, {<br>  \"number\":\n",
       "                       15,<br>  \"values\": [<br>    0.3343000113964081<br>  ],<br>\n",
       "                       \"params\": {<br>    \"conv_0_filters\": 79,<br>\n",
       "                       \"conv_0_kernel_size\": 3,<br>    \"num_conv_layers\": 2,<br>\n",
       "                       \"conv_1_filters\": 37,<br>    \"conv_1_kernel_size\": 5,<br>\n",
       "                       \"optimizer\": \"sgd\",<br>    \"lr_o\": 0.01<br>  }<br>}, {<br>\n",
       "                       \"number\": 16,<br>  \"values\": [<br>\n",
       "                       0.34279999136924744<br>  ],<br>  \"params\": {<br>\n",
       "                       \"conv_0_filters\": 24,<br>    \"conv_0_kernel_size\": 5,<br>\n",
       "                       \"num_conv_layers\": 2,<br>    \"conv_1_filters\": 63,<br>\n",
       "                       \"conv_1_kernel_size\": 5,<br>    \"optimizer\": \"sgd\",<br>\n",
       "                       \"lr_o\": 0.001<br>  }<br>}, {<br>  \"number\": 17,<br>\n",
       "                       \"values\": [<br>    0.29899999499320984<br>  ],<br>\n",
       "                       \"params\": {<br>    \"conv_0_filters\": 79,<br>\n",
       "                       \"conv_0_kernel_size\": 5,<br>    \"num_conv_layers\": 1,<br>\n",
       "                       \"optimizer\": \"sgd\",<br>    \"lr_o\": 0.001<br>  }<br>}, {<br>\n",
       "                       \"number\": 18,<br>  \"values\": [<br>    0.2842999994754791<br>\n",
       "                       ],<br>  \"params\": {<br>    \"conv_0_filters\": 46,<br>\n",
       "                       \"conv_0_kernel_size\": 3,<br>    \"num_conv_layers\": 2,<br>\n",
       "                       \"conv_1_filters\": 33,<br>    \"conv_1_kernel_size\": 5,<br>\n",
       "                       \"optimizer\": \"sgd\",<br>    \"lr_o\": 0.1<br>  }<br>}],\n",
       "              'textposition': 'none',\n",
       "              'type': 'bar',\n",
       "              'x': [1159385.1030000001, 1325193.9500000002, 1069756.291,\n",
       "                    816605.548, 1189401.4870000002, 1236774.981, 1092350.37,\n",
       "                    1229095.152, 979496.575, 851588.451, 649085.542, 826755.683,\n",
       "                    852798.9569999999, 799158.7540000001, 632258.01,\n",
       "                    848886.3239999999, 862789.107, 657348.353, 844198.942],\n",
       "              'y': [0, 1, 2, 3, 4, 5, 6, 7, 8, 9, 10, 11, 12, 13, 14, 15, 16, 17,\n",
       "                    18]},\n",
       "             {'base': [2024-01-27T05:16:58.657485],\n",
       "              'hovertemplate': '%{text}<extra>RUNNING</extra>',\n",
       "              'marker': {'color': 'green'},\n",
       "              'name': 'RUNNING',\n",
       "              'orientation': 'h',\n",
       "              'text': [{<br>  \"number\": 19,<br>  \"values\": null,<br>  \"params\":\n",
       "                       {<br>    \"conv_0_filters\": 126,<br>    \"conv_0_kernel_size\":\n",
       "                       7,<br>    \"num_conv_layers\": 3,<br>    \"conv_1_filters\":\n",
       "                       74,<br>    \"conv_1_kernel_size\": 5,<br>    \"conv_2_filters\":\n",
       "                       16,<br>    \"conv_2_kernel_size\": 3,<br>    \"optimizer\":\n",
       "                       \"sgd\",<br>    \"lr_o\": 0.01<br>  }<br>}],\n",
       "              'textposition': 'none',\n",
       "              'type': 'bar',\n",
       "              'x': [11871826.329],\n",
       "              'y': [19]}],\n",
       "    'layout': {'showlegend': True,\n",
       "               'template': '...',\n",
       "               'title': {'text': 'Timeline Plot'},\n",
       "               'xaxis': {'title': {'text': 'Datetime'}, 'type': 'date'},\n",
       "               'yaxis': {'title': {'text': 'Trial'}}}\n",
       "})"
      ]
     },
     "execution_count": 2,
     "metadata": {},
     "output_type": "execute_result"
    }
   ],
   "source": [
    "plot_timeline(study)"
   ]
  }
 ],
 "metadata": {
  "kernelspec": {
   "display_name": ".venv",
   "language": "python",
   "name": "python3"
  },
  "language_info": {
   "codemirror_mode": {
    "name": "ipython",
    "version": 3
   },
   "file_extension": ".py",
   "mimetype": "text/x-python",
   "name": "python",
   "nbconvert_exporter": "python",
   "pygments_lexer": "ipython3",
   "version": "3.9.13"
  }
 },
 "nbformat": 4,
 "nbformat_minor": 2
}
